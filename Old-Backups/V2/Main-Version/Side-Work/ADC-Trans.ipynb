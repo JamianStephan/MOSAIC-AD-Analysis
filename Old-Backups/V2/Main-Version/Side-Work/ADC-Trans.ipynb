{
 "cells": [
  {
   "cell_type": "markdown",
   "metadata": {},
   "source": [
    "## Spreadsheet ADC Transmissions\n",
    "Calculation of transmissions for specific shifts from an ADC system for Myriam. Will no longer work due to aperture changes"
   ]
  },
  {
   "cell_type": "code",
   "execution_count": 2,
   "metadata": {},
   "outputs": [
    {
     "ename": "NameError",
     "evalue": "name 'u' is not defined",
     "output_type": "error",
     "traceback": [
      "\u001b[0;31m---------------------------------------------------------------------------\u001b[0m",
      "\u001b[0;31mNameError\u001b[0m                                 Traceback (most recent call last)",
      "\u001b[0;32m/var/folders/wy/_1rg4fp57c90gdvfqnh0r54m0000gq/T/ipykernel_7275/907014224.py\u001b[0m in \u001b[0;36m<module>\u001b[0;34m\u001b[0m\n\u001b[1;32m      2\u001b[0m \u001b[0mPlate_Scale\u001b[0m \u001b[0;34m=\u001b[0m \u001b[0;36m3.316\u001b[0m \u001b[0;31m# [mm/arcsec]\u001b[0m\u001b[0;34m\u001b[0m\u001b[0;34m\u001b[0m\u001b[0m\n\u001b[1;32m      3\u001b[0m \u001b[0mPlate_Scale\u001b[0m \u001b[0;34m=\u001b[0m \u001b[0mPlate_Scale\u001b[0m\u001b[0;34m*\u001b[0m\u001b[0;36m1000\u001b[0m \u001b[0;31m#um/arcsec\u001b[0m\u001b[0;34m\u001b[0m\u001b[0;34m\u001b[0m\u001b[0m\n\u001b[0;32m----> 4\u001b[0;31m \u001b[0mlambdas\u001b[0m\u001b[0;34m=\u001b[0m\u001b[0;34m[\u001b[0m\u001b[0;36m770\u001b[0m\u001b[0;34m,\u001b[0m\u001b[0;36m859\u001b[0m\u001b[0;34m,\u001b[0m\u001b[0;36m1010\u001b[0m\u001b[0;34m,\u001b[0m\u001b[0;36m1045\u001b[0m\u001b[0;34m,\u001b[0m\u001b[0;36m1370\u001b[0m\u001b[0;34m,\u001b[0m\u001b[0;36m1420\u001b[0m\u001b[0;34m,\u001b[0m\u001b[0;36m1670\u001b[0m\u001b[0;34m,\u001b[0m\u001b[0;36m1926\u001b[0m\u001b[0;34m]\u001b[0m\u001b[0;34m*\u001b[0m\u001b[0mu\u001b[0m\u001b[0;34m.\u001b[0m\u001b[0mnm\u001b[0m\u001b[0;34m\u001b[0m\u001b[0;34m\u001b[0m\u001b[0m\n\u001b[0m\u001b[1;32m      5\u001b[0m \u001b[0mshifts_0\u001b[0m\u001b[0;34m=\u001b[0m\u001b[0;34m[\u001b[0m\u001b[0;36m0\u001b[0m\u001b[0;34m,\u001b[0m\u001b[0;36m0\u001b[0m\u001b[0;34m,\u001b[0m\u001b[0;36m0\u001b[0m\u001b[0;34m,\u001b[0m\u001b[0;36m0\u001b[0m\u001b[0;34m,\u001b[0m\u001b[0;36m0\u001b[0m\u001b[0;34m,\u001b[0m\u001b[0;36m0\u001b[0m\u001b[0;34m,\u001b[0m\u001b[0;36m0\u001b[0m\u001b[0;34m,\u001b[0m\u001b[0;36m0\u001b[0m\u001b[0;34m]\u001b[0m \u001b[0;31m#is in um\u001b[0m\u001b[0;34m\u001b[0m\u001b[0;34m\u001b[0m\u001b[0m\n\u001b[1;32m      6\u001b[0m \u001b[0mshifts_30\u001b[0m\u001b[0;34m=\u001b[0m\u001b[0mnp\u001b[0m\u001b[0;34m.\u001b[0m\u001b[0marray\u001b[0m\u001b[0;34m(\u001b[0m\u001b[0;34m[\u001b[0m\u001b[0;36m212\u001b[0m\u001b[0;34m,\u001b[0m\u001b[0;36m141\u001b[0m\u001b[0;34m,\u001b[0m\u001b[0;36m60\u001b[0m\u001b[0;34m,\u001b[0m\u001b[0;36m50\u001b[0m\u001b[0;34m,\u001b[0m\u001b[0;36m35\u001b[0m\u001b[0;34m,\u001b[0m\u001b[0;36m42\u001b[0m\u001b[0;34m,\u001b[0m\u001b[0;36m100\u001b[0m\u001b[0;34m,\u001b[0m\u001b[0;36m195\u001b[0m\u001b[0;34m]\u001b[0m\u001b[0;34m)\u001b[0m\u001b[0;34m\u001b[0m\u001b[0;34m\u001b[0m\u001b[0m\n",
      "\u001b[0;31mNameError\u001b[0m: name 'u' is not defined"
     ]
    }
   ],
   "source": [
    "import Transmission_calculation as trans\n",
    "Plate_Scale = 3.316 # [mm/arcsec]\n",
    "Plate_Scale = Plate_Scale*1000 #um/arcsec\n",
    "lambdas=[770,859,1010,1045,1370,1420,1670,1926]*u.nm\n",
    "shifts_0=[0,0,0,0,0,0,0,0] #is in um\n",
    "shifts_30=np.array([212,141,60,50,35,42,100,195])\n",
    "shifts_45=np.array([366,243,104,87,61,72,173,338])\n",
    "shifts_50=np.array([436,289,124,103,72,86,205,402])\n",
    "shifts_60=np.array([633,420,179,150,105,125,298,584])\n",
    "shifts=np.array([shifts_0,shifts_30,shifts_45,shifts_50,shifts_60])/Plate_Scale*u.arcsec"
   ]
  },
  {
   "cell_type": "code",
   "execution_count": 3,
   "metadata": {},
   "outputs": [
    {
     "ename": "NameError",
     "evalue": "name 'AD_analysis' is not defined",
     "output_type": "error",
     "traceback": [
      "\u001b[0;31m---------------------------------------------------------------------------\u001b[0m",
      "\u001b[0;31mNameError\u001b[0m                                 Traceback (most recent call last)",
      "\u001b[0;32m/var/folders/wy/_1rg4fp57c90gdvfqnh0r54m0000gq/T/ipykernel_7275/455189818.py\u001b[0m in \u001b[0;36m<module>\u001b[0;34m\u001b[0m\n\u001b[0;32m----> 1\u001b[0;31m \u001b[0manalysis\u001b[0m\u001b[0;34m=\u001b[0m\u001b[0mAD_analysis\u001b[0m\u001b[0;34m(\u001b[0m\u001b[0;34m)\u001b[0m\u001b[0;34m\u001b[0m\u001b[0;34m\u001b[0m\u001b[0m\n\u001b[0m\u001b[1;32m      2\u001b[0m \u001b[0manalysis\u001b[0m\u001b[0;34m.\u001b[0m\u001b[0moutput_parameters\u001b[0m\u001b[0;34m[\u001b[0m\u001b[0;34m'wave_wavelengths'\u001b[0m\u001b[0;34m]\u001b[0m\u001b[0;34m=\u001b[0m\u001b[0mlambdas\u001b[0m\u001b[0;34m\u001b[0m\u001b[0;34m\u001b[0m\u001b[0m\n\u001b[1;32m      3\u001b[0m \u001b[0manalysis\u001b[0m\u001b[0;34m.\u001b[0m\u001b[0mload_airmasses\u001b[0m\u001b[0;34m(\u001b[0m\u001b[0mZA_range\u001b[0m\u001b[0;34m=\u001b[0m\u001b[0;34m[\u001b[0m\u001b[0;36m0\u001b[0m\u001b[0;34m,\u001b[0m\u001b[0;36m30\u001b[0m\u001b[0;34m,\u001b[0m\u001b[0;36m45\u001b[0m\u001b[0;34m,\u001b[0m\u001b[0;36m50\u001b[0m\u001b[0;34m,\u001b[0m\u001b[0;36m60\u001b[0m\u001b[0;34m]\u001b[0m\u001b[0;34m)\u001b[0m\u001b[0;34m\u001b[0m\u001b[0;34m\u001b[0m\u001b[0m\n\u001b[1;32m      4\u001b[0m \u001b[0manalysis\u001b[0m\u001b[0;34m.\u001b[0m\u001b[0moutput_parameters\u001b[0m\u001b[0;34m[\u001b[0m\u001b[0;34m'shifts'\u001b[0m\u001b[0;34m]\u001b[0m\u001b[0;34m=\u001b[0m\u001b[0mshifts\u001b[0m\u001b[0;34m\u001b[0m\u001b[0;34m\u001b[0m\u001b[0m\n\u001b[1;32m      5\u001b[0m \u001b[0manalysis\u001b[0m\u001b[0;34m.\u001b[0m\u001b[0moutput_parameters\u001b[0m\u001b[0;34m[\u001b[0m\u001b[0;34m'aperture_diameter'\u001b[0m\u001b[0;34m]\u001b[0m\u001b[0;34m=\u001b[0m\u001b[0;36m0.6\u001b[0m\u001b[0;34m*\u001b[0m\u001b[0mu\u001b[0m\u001b[0;34m.\u001b[0m\u001b[0marcsec\u001b[0m\u001b[0;34m\u001b[0m\u001b[0;34m\u001b[0m\u001b[0m\n",
      "\u001b[0;31mNameError\u001b[0m: name 'AD_analysis' is not defined"
     ]
    }
   ],
   "source": [
    "analysis=AD_analysis()\n",
    "analysis.output_parameters['wave_wavelengths']=lambdas\n",
    "analysis.load_airmasses(ZA_range=[0,30,45,50,60])\n",
    "analysis.output_parameters['shifts']=shifts\n",
    "analysis.output_parameters['aperture_diameter']=0.6*u.arcsec\n",
    "analysis.calculate_transmissions(k_lim=30, FWHM_change=True, kolb_factor=True, method=\"numerical moffat\",scale=0.001)\n",
    "\n",
    "raw_trans=analysis.output_parameters['wave_transmissions']\n",
    "\n",
    "ZA_vals=[0,30,45,50,60]\n",
    "analysis=AD_analysis()\n",
    "analysis.output_parameters['wave_wavelengths']=lambdas\n",
    "\n",
    "analysis.output_parameters['shifts']=[shifts_0]*u.arcsec\n",
    "analysis.output_parameters['aperture_diameter']=0.6*u.arcsec\n",
    "for i in range(0,len(ZA_vals)):\n",
    "    analysis.load_airmasses(ZA_range=[ZA_vals[i]])\n",
    "    analysis.calculate_transmissions(k_lim=30, FWHM_change=True, kolb_factor=True, method=\"numerical moffat\",scale=0.001)\n",
    "    print(\"Raw Transmission for ZA = {} for ADC shifts:\".format(ZA_vals[i]))\n",
    "    rounded_vals = [ round(val,3) for val in raw_trans[i]]\n",
    "    print(rounded_vals)\n",
    "    normalised_vals=(np.array(raw_trans)[i]/np.array(analysis.output_parameters['wave_transmissions'][0]))\n",
    "    print(\"Transmission relative to no AD for ZA = {} for ADC shifts:\".format(ZA_vals[i]))\n",
    "    normalised_vals = [round(elem,3) for elem in normalised_vals]\n",
    "    print(normalised_vals)\n",
    "    print(\"==========================================================\")\n",
    "    "
   ]
  },
  {
   "cell_type": "code",
   "execution_count": 4,
   "metadata": {},
   "outputs": [
    {
     "ename": "NameError",
     "evalue": "name 'u' is not defined",
     "output_type": "error",
     "traceback": [
      "\u001b[0;31m---------------------------------------------------------------------------\u001b[0m",
      "\u001b[0;31mNameError\u001b[0m                                 Traceback (most recent call last)",
      "\u001b[0;32m/var/folders/wy/_1rg4fp57c90gdvfqnh0r54m0000gq/T/ipykernel_7275/2268895364.py\u001b[0m in \u001b[0;36m<module>\u001b[0;34m\u001b[0m\n\u001b[1;32m      2\u001b[0m \u001b[0mPlate_Scale\u001b[0m \u001b[0;34m=\u001b[0m \u001b[0;36m3.316\u001b[0m \u001b[0;31m# [mm/arcsec]\u001b[0m\u001b[0;34m\u001b[0m\u001b[0;34m\u001b[0m\u001b[0m\n\u001b[1;32m      3\u001b[0m \u001b[0mPlate_Scale\u001b[0m \u001b[0;34m=\u001b[0m \u001b[0mPlate_Scale\u001b[0m\u001b[0;34m*\u001b[0m\u001b[0;36m1000\u001b[0m \u001b[0;31m#um/arcsec\u001b[0m\u001b[0;34m\u001b[0m\u001b[0;34m\u001b[0m\u001b[0m\n\u001b[0;32m----> 4\u001b[0;31m \u001b[0mlambdas\u001b[0m\u001b[0;34m=\u001b[0m\u001b[0;34m[\u001b[0m\u001b[0;36m770\u001b[0m\u001b[0;34m,\u001b[0m\u001b[0;36m859\u001b[0m\u001b[0;34m,\u001b[0m\u001b[0;36m1010\u001b[0m\u001b[0;34m,\u001b[0m\u001b[0;36m1045\u001b[0m\u001b[0;34m,\u001b[0m\u001b[0;36m1370\u001b[0m\u001b[0;34m,\u001b[0m\u001b[0;36m1420\u001b[0m\u001b[0;34m,\u001b[0m\u001b[0;36m1670\u001b[0m\u001b[0;34m,\u001b[0m\u001b[0;36m1926\u001b[0m\u001b[0;34m]\u001b[0m\u001b[0;34m*\u001b[0m\u001b[0mu\u001b[0m\u001b[0;34m.\u001b[0m\u001b[0mnm\u001b[0m\u001b[0;34m\u001b[0m\u001b[0;34m\u001b[0m\u001b[0m\n\u001b[0m\u001b[1;32m      5\u001b[0m \u001b[0mshifts_0\u001b[0m\u001b[0;34m=\u001b[0m\u001b[0;34m[\u001b[0m\u001b[0;36m0\u001b[0m\u001b[0;34m,\u001b[0m\u001b[0;36m0\u001b[0m\u001b[0;34m,\u001b[0m\u001b[0;36m0\u001b[0m\u001b[0;34m,\u001b[0m\u001b[0;36m0\u001b[0m\u001b[0;34m,\u001b[0m\u001b[0;36m0\u001b[0m\u001b[0;34m,\u001b[0m\u001b[0;36m0\u001b[0m\u001b[0;34m,\u001b[0m\u001b[0;36m0\u001b[0m\u001b[0;34m,\u001b[0m\u001b[0;36m0\u001b[0m\u001b[0;34m]\u001b[0m \u001b[0;31m#is in um\u001b[0m\u001b[0;34m\u001b[0m\u001b[0;34m\u001b[0m\u001b[0m\n\u001b[1;32m      6\u001b[0m \u001b[0mshifts_30\u001b[0m\u001b[0;34m=\u001b[0m\u001b[0mnp\u001b[0m\u001b[0;34m.\u001b[0m\u001b[0marray\u001b[0m\u001b[0;34m(\u001b[0m\u001b[0;34m[\u001b[0m\u001b[0;36m210.00\u001b[0m\u001b[0;34m,\u001b[0m\u001b[0;36m188.00\u001b[0m\u001b[0;34m,\u001b[0m\u001b[0;36m141.00\u001b[0m\u001b[0;34m,\u001b[0m\u001b[0;36m129.00\u001b[0m\u001b[0;34m,\u001b[0m\u001b[0;36m0.00\u001b[0m\u001b[0;34m,\u001b[0m\u001b[0;34m-\u001b[0m\u001b[0;36m23.00\u001b[0m\u001b[0;34m,\u001b[0m\u001b[0;34m-\u001b[0m\u001b[0;36m148.00\u001b[0m\u001b[0;34m,\u001b[0m\u001b[0;34m-\u001b[0m\u001b[0;36m298.00\u001b[0m\u001b[0;34m]\u001b[0m\u001b[0;34m)\u001b[0m\u001b[0;34m\u001b[0m\u001b[0;34m\u001b[0m\u001b[0m\n",
      "\u001b[0;31mNameError\u001b[0m: name 'u' is not defined"
     ]
    }
   ],
   "source": [
    "import Transmission_calculation as trans\n",
    "Plate_Scale = 3.316 # [mm/arcsec]\n",
    "Plate_Scale = Plate_Scale*1000 #um/arcsec\n",
    "lambdas=[770,859,1010,1045,1370,1420,1670,1926]*u.nm\n",
    "shifts_0=[0,0,0,0,0,0,0,0] #is in um\n",
    "shifts_30=np.array([210.00,188.00,141.00,129.00,0.00,-23.00,-148.00,-298.00])\n",
    "shifts_45=np.array([474.00,348.00,252.00,229.00,0.00,-38.00,-248.00,-496.00])\n",
    "shifts_50=np.array([483.00,416.00,300.00,273.00,0.00,-46.00,-295.00,-589.00])\n",
    "shifts_60=np.array([696.00,602.00,435.00,395.00,0.00,-67.00,-428.00,-856.00])\n",
    "shifts=np.array([shifts_0,shifts_30,shifts_45,shifts_50,shifts_60])/Plate_Scale*u.arcsec"
   ]
  },
  {
   "cell_type": "code",
   "execution_count": 5,
   "metadata": {},
   "outputs": [
    {
     "ename": "NameError",
     "evalue": "name 'AD_analysis' is not defined",
     "output_type": "error",
     "traceback": [
      "\u001b[0;31m---------------------------------------------------------------------------\u001b[0m",
      "\u001b[0;31mNameError\u001b[0m                                 Traceback (most recent call last)",
      "\u001b[0;32m/var/folders/wy/_1rg4fp57c90gdvfqnh0r54m0000gq/T/ipykernel_7275/3143863992.py\u001b[0m in \u001b[0;36m<module>\u001b[0;34m\u001b[0m\n\u001b[0;32m----> 1\u001b[0;31m \u001b[0manalysis\u001b[0m\u001b[0;34m=\u001b[0m\u001b[0mAD_analysis\u001b[0m\u001b[0;34m(\u001b[0m\u001b[0;34m)\u001b[0m\u001b[0;34m\u001b[0m\u001b[0;34m\u001b[0m\u001b[0m\n\u001b[0m\u001b[1;32m      2\u001b[0m \u001b[0manalysis\u001b[0m\u001b[0;34m.\u001b[0m\u001b[0moutput_parameters\u001b[0m\u001b[0;34m[\u001b[0m\u001b[0;34m'wave_wavelengths'\u001b[0m\u001b[0;34m]\u001b[0m\u001b[0;34m=\u001b[0m\u001b[0mlambdas\u001b[0m\u001b[0;34m\u001b[0m\u001b[0;34m\u001b[0m\u001b[0m\n\u001b[1;32m      3\u001b[0m \u001b[0manalysis\u001b[0m\u001b[0;34m.\u001b[0m\u001b[0mload_airmasses\u001b[0m\u001b[0;34m(\u001b[0m\u001b[0mZA_range\u001b[0m\u001b[0;34m=\u001b[0m\u001b[0;34m[\u001b[0m\u001b[0;36m0\u001b[0m\u001b[0;34m,\u001b[0m\u001b[0;36m30\u001b[0m\u001b[0;34m,\u001b[0m\u001b[0;36m45\u001b[0m\u001b[0;34m,\u001b[0m\u001b[0;36m50\u001b[0m\u001b[0;34m,\u001b[0m\u001b[0;36m60\u001b[0m\u001b[0;34m]\u001b[0m\u001b[0;34m)\u001b[0m\u001b[0;34m\u001b[0m\u001b[0;34m\u001b[0m\u001b[0m\n\u001b[1;32m      4\u001b[0m \u001b[0manalysis\u001b[0m\u001b[0;34m.\u001b[0m\u001b[0moutput_parameters\u001b[0m\u001b[0;34m[\u001b[0m\u001b[0;34m'shifts'\u001b[0m\u001b[0;34m]\u001b[0m\u001b[0;34m=\u001b[0m\u001b[0mshifts\u001b[0m\u001b[0;34m\u001b[0m\u001b[0;34m\u001b[0m\u001b[0m\n\u001b[1;32m      5\u001b[0m \u001b[0manalysis\u001b[0m\u001b[0;34m.\u001b[0m\u001b[0moutput_parameters\u001b[0m\u001b[0;34m[\u001b[0m\u001b[0;34m'aperture_diameter'\u001b[0m\u001b[0;34m]\u001b[0m\u001b[0;34m=\u001b[0m\u001b[0;36m0.6\u001b[0m\u001b[0;34m*\u001b[0m\u001b[0mu\u001b[0m\u001b[0;34m.\u001b[0m\u001b[0marcsec\u001b[0m\u001b[0;34m\u001b[0m\u001b[0;34m\u001b[0m\u001b[0m\n",
      "\u001b[0;31mNameError\u001b[0m: name 'AD_analysis' is not defined"
     ]
    }
   ],
   "source": [
    "analysis=AD_analysis()\n",
    "analysis.output_parameters['wave_wavelengths']=lambdas\n",
    "analysis.load_airmasses(ZA_range=[0,30,45,50,60])\n",
    "analysis.output_parameters['shifts']=shifts\n",
    "analysis.output_parameters['aperture_diameter']=0.6*u.arcsec\n",
    "analysis.calculate_transmissions(k_lim=30, FWHM_change=True, kolb_factor=True, method=\"numerical moffat\",scale=0.001)\n",
    "\n",
    "raw_trans=analysis.output_parameters['wave_transmissions']\n",
    "\n",
    "ZA_vals=[0,30,45,50,60]\n",
    "\n",
    "weights = np.arange(0, len(ZA_vals)+1)\n",
    "norm = mpl.colors.Normalize(vmin=min(weights), vmax=max(weights))\n",
    "cmap = mpl.cm.ScalarMappable(norm=norm, cmap=mpl.cm.Reds)\n",
    "\n",
    "analysis=AD_analysis()\n",
    "analysis.output_parameters['wave_wavelengths']=lambdas\n",
    "\n",
    "analysis.output_parameters['shifts']=[shifts_0]*u.arcsec\n",
    "analysis.output_parameters['aperture_diameter']=0.6*u.arcsec\n",
    "plt.figure(figsize=[8,5])\n",
    "for i in range(0,len(ZA_vals)):\n",
    "    analysis.load_airmasses(ZA_range=[ZA_vals[i]])\n",
    "    analysis.calculate_transmissions(k_lim=30, FWHM_change=True, kolb_factor=True, method=\"numerical moffat\",scale=0.001)\n",
    "    print(\"Raw Transmission for ZA = {} for ADC shifts:\".format(ZA_vals[i]))\n",
    "    rounded_vals = [ round(val,3) for val in raw_trans[i]]\n",
    "    print(rounded_vals)\n",
    "    normalised_vals=(np.array(raw_trans)[i]/np.array(analysis.output_parameters['wave_transmissions'][0]))\n",
    "    print(\"Transmission relative to no AD for ZA = {} for ADC shifts:\".format(ZA_vals[i]))\n",
    "    normalised_vals = [round(elem,3) for elem in normalised_vals]\n",
    "    print(normalised_vals)\n",
    "    print(\"==========================================================\")\n",
    "    plt.plot(lambdas,normalised_vals,label=\"ZA = {}\".format(ZA_vals[i]),color=cmap.to_rgba(len(ZA_vals)+1-i))\n",
    "plt.ylim(0,1.1)\n",
    "plt.xlabel(\"Wavelength (nm)\")\n",
    "plt.ylabel(\"Transmission Relative to no AD\")\n",
    "plt.legend()\n",
    "plt.title(\"NIR Transmission Curves vs Wavelength for Various ZA, Global ADC\")\n",
    "\n",
    "plt.figure(figsize=[8,5])\n",
    "for i in range(0,len(ZA_vals)):\n",
    "    analysis.load_airmasses(ZA_range=[ZA_vals[i]])\n",
    "    analysis.calculate_transmissions(k_lim=30, FWHM_change=True, kolb_factor=True, method=\"numerical moffat\",scale=0.001)\n",
    "\n",
    "    rounded_vals = [ round(val,3) for val in raw_trans[i]]\n",
    "\n",
    "    normalised_vals=(np.array(raw_trans)[i]/np.array(raw_trans)[i][4])\n",
    "\n",
    "    normalised_vals = [round(elem,3) for elem in normalised_vals]\n",
    "\n",
    "    plt.plot(lambdas,normalised_vals,label=\"ZA = {}\".format(ZA_vals[i]),color=cmap.to_rgba(i))\n",
    "plt.ylim(0,1.4)\n",
    "plt.xlabel(\"Wavelength (nm)\")\n",
    "plt.ylabel(\"Transmission relative to Aperture Centre Wavelength\")\n",
    "plt.legend()\n",
    "plt.title(\"NIR Transmission Curves vs Wavelength for Various ZA, Global ADC\")"
   ]
  },
  {
   "cell_type": "code",
   "execution_count": 6,
   "metadata": {},
   "outputs": [
    {
     "ename": "NameError",
     "evalue": "name 'u' is not defined",
     "output_type": "error",
     "traceback": [
      "\u001b[0;31m---------------------------------------------------------------------------\u001b[0m",
      "\u001b[0;31mNameError\u001b[0m                                 Traceback (most recent call last)",
      "\u001b[0;32m/var/folders/wy/_1rg4fp57c90gdvfqnh0r54m0000gq/T/ipykernel_7275/1005278937.py\u001b[0m in \u001b[0;36m<module>\u001b[0;34m\u001b[0m\n\u001b[1;32m      2\u001b[0m \u001b[0mPlate_Scale\u001b[0m \u001b[0;34m=\u001b[0m \u001b[0;36m3.316\u001b[0m \u001b[0;31m# [mm/arcsec]\u001b[0m\u001b[0;34m\u001b[0m\u001b[0;34m\u001b[0m\u001b[0m\n\u001b[1;32m      3\u001b[0m \u001b[0mPlate_Scale\u001b[0m \u001b[0;34m=\u001b[0m \u001b[0mPlate_Scale\u001b[0m\u001b[0;34m*\u001b[0m\u001b[0;36m1000\u001b[0m \u001b[0;31m#um/arcsec\u001b[0m\u001b[0;34m\u001b[0m\u001b[0;34m\u001b[0m\u001b[0m\n\u001b[0;32m----> 4\u001b[0;31m \u001b[0mlambdas\u001b[0m\u001b[0;34m=\u001b[0m\u001b[0;34m[\u001b[0m\u001b[0;36m390\u001b[0m\u001b[0;34m,\u001b[0m\u001b[0;36m487\u001b[0m\u001b[0;34m,\u001b[0m\u001b[0;36m627\u001b[0m\u001b[0;34m,\u001b[0m\u001b[0;36m770\u001b[0m\u001b[0;34m,\u001b[0m\u001b[0;36m859\u001b[0m\u001b[0;34m]\u001b[0m\u001b[0;34m*\u001b[0m\u001b[0mu\u001b[0m\u001b[0;34m.\u001b[0m\u001b[0mnm\u001b[0m\u001b[0;34m\u001b[0m\u001b[0;34m\u001b[0m\u001b[0m\n\u001b[0m\u001b[1;32m      5\u001b[0m \u001b[0mshifts_0\u001b[0m\u001b[0;34m=\u001b[0m\u001b[0;34m[\u001b[0m\u001b[0;36m0\u001b[0m\u001b[0;34m,\u001b[0m\u001b[0;36m0\u001b[0m\u001b[0;34m,\u001b[0m\u001b[0;36m0\u001b[0m\u001b[0;34m,\u001b[0m\u001b[0;36m0\u001b[0m\u001b[0;34m,\u001b[0m\u001b[0;36m0\u001b[0m\u001b[0;34m]\u001b[0m \u001b[0;31m#is in um\u001b[0m\u001b[0;34m\u001b[0m\u001b[0;34m\u001b[0m\u001b[0m\n\u001b[1;32m      6\u001b[0m \u001b[0mshifts_30\u001b[0m\u001b[0;34m=\u001b[0m\u001b[0mnp\u001b[0m\u001b[0;34m.\u001b[0m\u001b[0marray\u001b[0m\u001b[0;34m(\u001b[0m\u001b[0;34m[\u001b[0m\u001b[0;36m151.00\u001b[0m\u001b[0;34m,\u001b[0m\u001b[0;36m0.00\u001b[0m\u001b[0;34m,\u001b[0m\u001b[0;36m83.00\u001b[0m\u001b[0;34m,\u001b[0m\u001b[0;36m67.00\u001b[0m\u001b[0;34m,\u001b[0m\u001b[0;36m45.00\u001b[0m\u001b[0;34m]\u001b[0m\u001b[0;34m)\u001b[0m\u001b[0;34m\u001b[0m\u001b[0;34m\u001b[0m\u001b[0m\n",
      "\u001b[0;31mNameError\u001b[0m: name 'u' is not defined"
     ]
    }
   ],
   "source": [
    "import Transmission_calculation as trans\n",
    "Plate_Scale = 3.316 # [mm/arcsec]\n",
    "Plate_Scale = Plate_Scale*1000 #um/arcsec\n",
    "lambdas=[390,487,627,770,859]*u.nm\n",
    "shifts_0=[0,0,0,0,0] #is in um\n",
    "shifts_30=np.array([151.00,0.00,83.00,67.00,45.00])\n",
    "shifts_45=np.array([473.00,0.00,41.00,41.00,85.00])\n",
    "shifts_50=np.array([543.00,0.00,36.00,55.00,122.00])\n",
    "shifts_60=np.array([771.00,0.00,105.00,22.00,116.00])\n",
    "shifts=np.array([shifts_0,shifts_30,shifts_45,shifts_50,shifts_60])/Plate_Scale*u.arcsec\n",
    "print(shifts)"
   ]
  },
  {
   "cell_type": "code",
   "execution_count": 7,
   "metadata": {},
   "outputs": [
    {
     "ename": "NameError",
     "evalue": "name 'AD_analysis' is not defined",
     "output_type": "error",
     "traceback": [
      "\u001b[0;31m---------------------------------------------------------------------------\u001b[0m",
      "\u001b[0;31mNameError\u001b[0m                                 Traceback (most recent call last)",
      "\u001b[0;32m/var/folders/wy/_1rg4fp57c90gdvfqnh0r54m0000gq/T/ipykernel_7275/2116784311.py\u001b[0m in \u001b[0;36m<module>\u001b[0;34m\u001b[0m\n\u001b[0;32m----> 1\u001b[0;31m \u001b[0manalysis\u001b[0m\u001b[0;34m=\u001b[0m\u001b[0mAD_analysis\u001b[0m\u001b[0;34m(\u001b[0m\u001b[0;34m)\u001b[0m\u001b[0;34m\u001b[0m\u001b[0;34m\u001b[0m\u001b[0m\n\u001b[0m\u001b[1;32m      2\u001b[0m \u001b[0manalysis\u001b[0m\u001b[0;34m.\u001b[0m\u001b[0moutput_parameters\u001b[0m\u001b[0;34m[\u001b[0m\u001b[0;34m'wave_wavelengths'\u001b[0m\u001b[0;34m]\u001b[0m\u001b[0;34m=\u001b[0m\u001b[0mlambdas\u001b[0m\u001b[0;34m\u001b[0m\u001b[0;34m\u001b[0m\u001b[0m\n\u001b[1;32m      3\u001b[0m \u001b[0manalysis\u001b[0m\u001b[0;34m.\u001b[0m\u001b[0mload_airmasses\u001b[0m\u001b[0;34m(\u001b[0m\u001b[0mZA_range\u001b[0m\u001b[0;34m=\u001b[0m\u001b[0;34m[\u001b[0m\u001b[0;36m0\u001b[0m\u001b[0;34m,\u001b[0m\u001b[0;36m30\u001b[0m\u001b[0;34m,\u001b[0m\u001b[0;36m45\u001b[0m\u001b[0;34m,\u001b[0m\u001b[0;36m50\u001b[0m\u001b[0;34m,\u001b[0m\u001b[0;36m60\u001b[0m\u001b[0;34m]\u001b[0m\u001b[0;34m)\u001b[0m\u001b[0;34m\u001b[0m\u001b[0;34m\u001b[0m\u001b[0m\n\u001b[1;32m      4\u001b[0m \u001b[0manalysis\u001b[0m\u001b[0;34m.\u001b[0m\u001b[0moutput_parameters\u001b[0m\u001b[0;34m[\u001b[0m\u001b[0;34m'shifts'\u001b[0m\u001b[0;34m]\u001b[0m\u001b[0;34m=\u001b[0m\u001b[0mshifts\u001b[0m\u001b[0;34m\u001b[0m\u001b[0;34m\u001b[0m\u001b[0m\n\u001b[1;32m      5\u001b[0m \u001b[0manalysis\u001b[0m\u001b[0;34m.\u001b[0m\u001b[0moutput_parameters\u001b[0m\u001b[0;34m[\u001b[0m\u001b[0;34m'aperture_diameter'\u001b[0m\u001b[0;34m]\u001b[0m\u001b[0;34m=\u001b[0m\u001b[0;36m0.69\u001b[0m\u001b[0;34m*\u001b[0m\u001b[0mu\u001b[0m\u001b[0;34m.\u001b[0m\u001b[0marcsec\u001b[0m\u001b[0;34m\u001b[0m\u001b[0;34m\u001b[0m\u001b[0m\n",
      "\u001b[0;31mNameError\u001b[0m: name 'AD_analysis' is not defined"
     ]
    }
   ],
   "source": [
    "analysis=AD_analysis()\n",
    "analysis.output_parameters['wave_wavelengths']=lambdas\n",
    "analysis.load_airmasses(ZA_range=[0,30,45,50,60])\n",
    "analysis.output_parameters['shifts']=shifts\n",
    "analysis.output_parameters['aperture_diameter']=0.69*u.arcsec\n",
    "analysis.calculate_transmissions(k_lim=30, FWHM_change=True, kolb_factor=True, method=\"numerical moffat\",scale=0.001)\n",
    "\n",
    "raw_trans=analysis.output_parameters['wave_transmissions']\n",
    "\n",
    "ZA_vals=[0,30,45,50,60]\n",
    "\n",
    "weights = np.arange(0, len(ZA_vals)+1)\n",
    "norm = mpl.colors.Normalize(vmin=min(weights), vmax=max(weights))\n",
    "cmap = mpl.cm.ScalarMappable(norm=norm, cmap=mpl.cm.Blues)\n",
    "\n",
    "analysis=AD_analysis()\n",
    "analysis.output_parameters['wave_wavelengths']=lambdas\n",
    "\n",
    "analysis.output_parameters['shifts']=[shifts_0]*u.arcsec\n",
    "analysis.output_parameters['aperture_diameter']=0.69*u.arcsec\n",
    "plt.figure(figsize=[8,5])\n",
    "for i in range(0,len(ZA_vals)):\n",
    "    analysis.load_airmasses(ZA_range=[ZA_vals[i]])\n",
    "    analysis.calculate_transmissions(k_lim=30, FWHM_change=True, kolb_factor=True, method=\"numerical moffat\",scale=0.001)\n",
    "    print(\"Raw Transmission for ZA = {} for ADC shifts:\".format(ZA_vals[i]))\n",
    "    rounded_vals = [ round(val,3) for val in raw_trans[i]]\n",
    "    print(rounded_vals)\n",
    "    normalised_vals=(np.array(raw_trans)[i]/np.array(analysis.output_parameters['wave_transmissions'][0]))\n",
    "    print(\"Transmission relative to no AD for ZA = {} for ADC shifts:\".format(ZA_vals[i]))\n",
    "    normalised_vals = [round(elem,3) for elem in normalised_vals]\n",
    "    print(normalised_vals)\n",
    "    print(\"==========================================================\")\n",
    "    plt.plot(lambdas,normalised_vals,label=\"ZA = {}\".format(ZA_vals[i]),color=cmap.to_rgba(len(ZA_vals)+1-i))\n",
    "plt.ylim(0,1.1)\n",
    "plt.xlabel(\"Wavelength (nm)\")\n",
    "plt.ylabel(\"Transmission Relative to no AD\")\n",
    "plt.legend()\n",
    "plt.title(\"VIS Transmission Curves vs Wavelength for Various ZA, Global ADC\")\n",
    "\n",
    "plt.figure(figsize=[8,5])\n",
    "for i in range(0,len(ZA_vals)):\n",
    "    analysis.load_airmasses(ZA_range=[ZA_vals[i]])\n",
    "    analysis.calculate_transmissions(k_lim=30, FWHM_change=True, kolb_factor=True, method=\"numerical moffat\",scale=0.001)\n",
    "\n",
    "    rounded_vals = [ round(val,3) for val in raw_trans[i]]\n",
    "\n",
    "    normalised_vals=(np.array(raw_trans)[i]/np.array(np.array(raw_trans)[i][1]))\n",
    "\n",
    "    normalised_vals = [round(elem,3) for elem in normalised_vals]\n",
    "\n",
    "    plt.plot(lambdas,normalised_vals,label=\"ZA = {}\".format(ZA_vals[i]),color=cmap.to_rgba(i))\n",
    "plt.ylim(0,1.4)\n",
    "plt.xlabel(\"Wavelength (nm)\")\n",
    "plt.ylabel(\"Transmission relative to Aperture Centre Wavelength\")\n",
    "plt.legend()\n",
    "plt.title(\"VIS Transmission Curves vs Wavelength for Various ZA, Global ADC\")"
   ]
  },
  {
   "cell_type": "code",
   "execution_count": 8,
   "metadata": {},
   "outputs": [
    {
     "ename": "NameError",
     "evalue": "name 'atm_diff' is not defined",
     "output_type": "error",
     "traceback": [
      "\u001b[0;31m---------------------------------------------------------------------------\u001b[0m",
      "\u001b[0;31mNameError\u001b[0m                                 Traceback (most recent call last)",
      "\u001b[0;32m/var/folders/wy/_1rg4fp57c90gdvfqnh0r54m0000gq/T/ipykernel_7275/2160304.py\u001b[0m in \u001b[0;36m<module>\u001b[0;34m\u001b[0m\n\u001b[0;32m----> 1\u001b[0;31m \u001b[0mza_airmasses\u001b[0m\u001b[0;34m=\u001b[0m\u001b[0;34m[\u001b[0m\u001b[0matm_diff\u001b[0m\u001b[0;34m.\u001b[0m\u001b[0mzenith_dist_to_airmass\u001b[0m\u001b[0;34m(\u001b[0m\u001b[0;36m0\u001b[0m\u001b[0;34m)\u001b[0m\u001b[0;34m,\u001b[0m\u001b[0matm_diff\u001b[0m\u001b[0;34m.\u001b[0m\u001b[0mzenith_dist_to_airmass\u001b[0m\u001b[0;34m(\u001b[0m\u001b[0;36m30\u001b[0m\u001b[0;34m)\u001b[0m\u001b[0;34m,\u001b[0m\u001b[0matm_diff\u001b[0m\u001b[0;34m.\u001b[0m\u001b[0mzenith_dist_to_airmass\u001b[0m\u001b[0;34m(\u001b[0m\u001b[0;36m45\u001b[0m\u001b[0;34m)\u001b[0m\u001b[0;34m,\u001b[0m\u001b[0matm_diff\u001b[0m\u001b[0;34m.\u001b[0m\u001b[0mzenith_dist_to_airmass\u001b[0m\u001b[0;34m(\u001b[0m\u001b[0;36m50\u001b[0m\u001b[0;34m)\u001b[0m\u001b[0;34m,\u001b[0m\u001b[0matm_diff\u001b[0m\u001b[0;34m.\u001b[0m\u001b[0mzenith_dist_to_airmass\u001b[0m\u001b[0;34m(\u001b[0m\u001b[0;36m60\u001b[0m\u001b[0;34m)\u001b[0m\u001b[0;34m]\u001b[0m\u001b[0;34m\u001b[0m\u001b[0;34m\u001b[0m\u001b[0m\n\u001b[0m\u001b[1;32m      2\u001b[0m \u001b[0mHA_vals\u001b[0m\u001b[0;34m=\u001b[0m\u001b[0mnp\u001b[0m\u001b[0;34m.\u001b[0m\u001b[0mlinspace\u001b[0m\u001b[0;34m(\u001b[0m\u001b[0;36m1\u001b[0m\u001b[0;34m,\u001b[0m\u001b[0;36m2\u001b[0m\u001b[0;34m,\u001b[0m\u001b[0;36m21\u001b[0m\u001b[0;34m)\u001b[0m\u001b[0;34m\u001b[0m\u001b[0;34m\u001b[0m\u001b[0m\n\u001b[1;32m      3\u001b[0m \u001b[0mairmasses\u001b[0m\u001b[0;34m=\u001b[0m\u001b[0matm_diff\u001b[0m\u001b[0;34m.\u001b[0m\u001b[0mzenith_dist_to_airmass\u001b[0m\u001b[0;34m(\u001b[0m\u001b[0matm_diff\u001b[0m\u001b[0;34m.\u001b[0m\u001b[0mHA_2_ZA\u001b[0m\u001b[0;34m(\u001b[0m\u001b[0mHA_vals\u001b[0m\u001b[0;34m,\u001b[0m\u001b[0mdec\u001b[0m\u001b[0;34m=\u001b[0m\u001b[0;36m0\u001b[0m\u001b[0;34m*\u001b[0m\u001b[0mu\u001b[0m\u001b[0;34m.\u001b[0m\u001b[0mdeg\u001b[0m\u001b[0;34m)\u001b[0m\u001b[0;34m)\u001b[0m\u001b[0;34m\u001b[0m\u001b[0;34m\u001b[0m\u001b[0m\n\u001b[1;32m      4\u001b[0m \u001b[0mairmasses_prime\u001b[0m\u001b[0;34m=\u001b[0m\u001b[0matm_diff\u001b[0m\u001b[0;34m.\u001b[0m\u001b[0mzenith_dist_to_airmass\u001b[0m\u001b[0;34m(\u001b[0m\u001b[0matm_diff\u001b[0m\u001b[0;34m.\u001b[0m\u001b[0mHA_2_ZA\u001b[0m\u001b[0;34m(\u001b[0m\u001b[0mHA_vals\u001b[0m\u001b[0;34m,\u001b[0m\u001b[0mdec\u001b[0m\u001b[0;34m=\u001b[0m\u001b[0;36m0\u001b[0m\u001b[0;34m*\u001b[0m\u001b[0mu\u001b[0m\u001b[0;34m.\u001b[0m\u001b[0mdeg\u001b[0m\u001b[0;34m)\u001b[0m\u001b[0;34m)\u001b[0m\u001b[0;34m\u001b[0m\u001b[0;34m\u001b[0m\u001b[0m\n\u001b[1;32m      5\u001b[0m \u001b[0;34m\u001b[0m\u001b[0m\n",
      "\u001b[0;31mNameError\u001b[0m: name 'atm_diff' is not defined"
     ]
    }
   ],
   "source": [
    "za_airmasses=[atm_diff.zenith_dist_to_airmass(0),atm_diff.zenith_dist_to_airmass(30),atm_diff.zenith_dist_to_airmass(45),atm_diff.zenith_dist_to_airmass(50),atm_diff.zenith_dist_to_airmass(60)]\n",
    "HA_vals=np.linspace(1,2,21)\n",
    "airmasses=atm_diff.zenith_dist_to_airmass(atm_diff.HA_2_ZA(HA_vals,dec=0*u.deg))\n",
    "airmasses_prime=atm_diff.zenith_dist_to_airmass(atm_diff.HA_2_ZA(HA_vals,dec=0*u.deg))\n",
    "\n",
    "import Transmission_calculation as trans\n",
    "Plate_Scale = 3.316 # [mm/arcsec]\n",
    "Plate_Scale = Plate_Scale*1000 #um/arcsec\n",
    "lambdas=[390,487,627,770,859]*u.nm\n",
    "shifts_0=[0,0,0,0,0] #is in um\n",
    "shifts_30=np.array([151.00,0.00,83.00,67.00,45.00])\n",
    "shifts_45=np.array([473.00,0.00,41.00,41.00,85.00])\n",
    "shifts_50=np.array([543.00,0.00,36.00,55.00,122.00])\n",
    "shifts_60=np.array([771.00,0.00,105.00,22.00,116.00])\n",
    "shifts=np.array([shifts_0,shifts_30,shifts_45,shifts_50,shifts_60])/Plate_Scale*u.arcsec"
   ]
  },
  {
   "cell_type": "code",
   "execution_count": 9,
   "metadata": {},
   "outputs": [
    {
     "ename": "NameError",
     "evalue": "name 'shifts_30' is not defined",
     "output_type": "error",
     "traceback": [
      "\u001b[0;31m---------------------------------------------------------------------------\u001b[0m",
      "\u001b[0;31mNameError\u001b[0m                                 Traceback (most recent call last)",
      "\u001b[0;32m/var/folders/wy/_1rg4fp57c90gdvfqnh0r54m0000gq/T/ipykernel_7275/4043108571.py\u001b[0m in \u001b[0;36m<module>\u001b[0;34m\u001b[0m\n\u001b[0;32m----> 1\u001b[0;31m \u001b[0mshiftz_0\u001b[0m\u001b[0;34m=\u001b[0m\u001b[0;34m(\u001b[0m\u001b[0mshifts_30\u001b[0m\u001b[0;34m-\u001b[0m\u001b[0mshifts_0\u001b[0m\u001b[0;34m)\u001b[0m\u001b[0;34m*\u001b[0m\u001b[0;34m(\u001b[0m\u001b[0mairmasses\u001b[0m\u001b[0;34m[\u001b[0m\u001b[0;36m0\u001b[0m\u001b[0;34m]\u001b[0m\u001b[0;34m-\u001b[0m\u001b[0mza_airmasses\u001b[0m\u001b[0;34m[\u001b[0m\u001b[0;36m0\u001b[0m\u001b[0;34m]\u001b[0m\u001b[0;34m)\u001b[0m\u001b[0;34m/\u001b[0m\u001b[0;34m(\u001b[0m\u001b[0mza_airmasses\u001b[0m\u001b[0;34m[\u001b[0m\u001b[0;36m1\u001b[0m\u001b[0;34m]\u001b[0m\u001b[0;34m-\u001b[0m\u001b[0mza_airmasses\u001b[0m\u001b[0;34m[\u001b[0m\u001b[0;36m0\u001b[0m\u001b[0;34m]\u001b[0m\u001b[0;34m)\u001b[0m\u001b[0;34m+\u001b[0m\u001b[0mshifts_0\u001b[0m\u001b[0;34m\u001b[0m\u001b[0;34m\u001b[0m\u001b[0m\n\u001b[0m\u001b[1;32m      2\u001b[0m \u001b[0mshiftz_1\u001b[0m\u001b[0;34m=\u001b[0m\u001b[0;34m(\u001b[0m\u001b[0mshifts_30\u001b[0m\u001b[0;34m-\u001b[0m\u001b[0mshifts_0\u001b[0m\u001b[0;34m)\u001b[0m\u001b[0;34m*\u001b[0m\u001b[0;34m(\u001b[0m\u001b[0mairmasses\u001b[0m\u001b[0;34m[\u001b[0m\u001b[0;36m1\u001b[0m\u001b[0;34m]\u001b[0m\u001b[0;34m-\u001b[0m\u001b[0mza_airmasses\u001b[0m\u001b[0;34m[\u001b[0m\u001b[0;36m0\u001b[0m\u001b[0;34m]\u001b[0m\u001b[0;34m)\u001b[0m\u001b[0;34m/\u001b[0m\u001b[0;34m(\u001b[0m\u001b[0mza_airmasses\u001b[0m\u001b[0;34m[\u001b[0m\u001b[0;36m1\u001b[0m\u001b[0;34m]\u001b[0m\u001b[0;34m-\u001b[0m\u001b[0mza_airmasses\u001b[0m\u001b[0;34m[\u001b[0m\u001b[0;36m0\u001b[0m\u001b[0;34m]\u001b[0m\u001b[0;34m)\u001b[0m\u001b[0;34m+\u001b[0m\u001b[0mshifts_0\u001b[0m\u001b[0;34m\u001b[0m\u001b[0;34m\u001b[0m\u001b[0m\n\u001b[1;32m      3\u001b[0m \u001b[0mshiftz_2\u001b[0m\u001b[0;34m=\u001b[0m\u001b[0;34m(\u001b[0m\u001b[0mshifts_30\u001b[0m\u001b[0;34m-\u001b[0m\u001b[0mshifts_0\u001b[0m\u001b[0;34m)\u001b[0m\u001b[0;34m*\u001b[0m\u001b[0;34m(\u001b[0m\u001b[0mairmasses\u001b[0m\u001b[0;34m[\u001b[0m\u001b[0;36m2\u001b[0m\u001b[0;34m]\u001b[0m\u001b[0;34m-\u001b[0m\u001b[0mza_airmasses\u001b[0m\u001b[0;34m[\u001b[0m\u001b[0;36m0\u001b[0m\u001b[0;34m]\u001b[0m\u001b[0;34m)\u001b[0m\u001b[0;34m/\u001b[0m\u001b[0;34m(\u001b[0m\u001b[0mza_airmasses\u001b[0m\u001b[0;34m[\u001b[0m\u001b[0;36m1\u001b[0m\u001b[0;34m]\u001b[0m\u001b[0;34m-\u001b[0m\u001b[0mza_airmasses\u001b[0m\u001b[0;34m[\u001b[0m\u001b[0;36m0\u001b[0m\u001b[0;34m]\u001b[0m\u001b[0;34m)\u001b[0m\u001b[0;34m+\u001b[0m\u001b[0mshifts_0\u001b[0m\u001b[0;34m\u001b[0m\u001b[0;34m\u001b[0m\u001b[0m\n\u001b[1;32m      4\u001b[0m \u001b[0mshiftz_3\u001b[0m\u001b[0;34m=\u001b[0m\u001b[0;34m(\u001b[0m\u001b[0mshifts_30\u001b[0m\u001b[0;34m-\u001b[0m\u001b[0mshifts_0\u001b[0m\u001b[0;34m)\u001b[0m\u001b[0;34m*\u001b[0m\u001b[0;34m(\u001b[0m\u001b[0mairmasses\u001b[0m\u001b[0;34m[\u001b[0m\u001b[0;36m3\u001b[0m\u001b[0;34m]\u001b[0m\u001b[0;34m-\u001b[0m\u001b[0mza_airmasses\u001b[0m\u001b[0;34m[\u001b[0m\u001b[0;36m0\u001b[0m\u001b[0;34m]\u001b[0m\u001b[0;34m)\u001b[0m\u001b[0;34m/\u001b[0m\u001b[0;34m(\u001b[0m\u001b[0mza_airmasses\u001b[0m\u001b[0;34m[\u001b[0m\u001b[0;36m1\u001b[0m\u001b[0;34m]\u001b[0m\u001b[0;34m-\u001b[0m\u001b[0mza_airmasses\u001b[0m\u001b[0;34m[\u001b[0m\u001b[0;36m0\u001b[0m\u001b[0;34m]\u001b[0m\u001b[0;34m)\u001b[0m\u001b[0;34m+\u001b[0m\u001b[0mshifts_0\u001b[0m\u001b[0;34m\u001b[0m\u001b[0;34m\u001b[0m\u001b[0m\n\u001b[1;32m      5\u001b[0m \u001b[0;34m\u001b[0m\u001b[0m\n",
      "\u001b[0;31mNameError\u001b[0m: name 'shifts_30' is not defined"
     ]
    }
   ],
   "source": [
    "shiftz_0=(shifts_30-shifts_0)*(airmasses[0]-za_airmasses[0])/(za_airmasses[1]-za_airmasses[0])+shifts_0\n",
    "shiftz_1=(shifts_30-shifts_0)*(airmasses[1]-za_airmasses[0])/(za_airmasses[1]-za_airmasses[0])+shifts_0\n",
    "shiftz_2=(shifts_30-shifts_0)*(airmasses[2]-za_airmasses[0])/(za_airmasses[1]-za_airmasses[0])+shifts_0\n",
    "shiftz_3=(shifts_30-shifts_0)*(airmasses[3]-za_airmasses[0])/(za_airmasses[1]-za_airmasses[0])+shifts_0\n",
    "\n",
    "total_shifts=[shiftz_0,shiftz_1,shiftz_2,shiftz_3]\n",
    "\n",
    "for i in range(4,21):\n",
    "    this_shift=(shifts_45-shifts_30)*(airmasses[i]-za_airmasses[1])/(za_airmasses[2]-za_airmasses[1])+shifts_30\n",
    "    total_shifts.append(this_shift)\n",
    "    \n",
    "total_shifts = np.array(total_shifts)/Plate_Scale*u.arcsec\n"
   ]
  },
  {
   "cell_type": "code",
   "execution_count": 10,
   "metadata": {},
   "outputs": [
    {
     "ename": "NameError",
     "evalue": "name 'AD_analysis' is not defined",
     "output_type": "error",
     "traceback": [
      "\u001b[0;31m---------------------------------------------------------------------------\u001b[0m",
      "\u001b[0;31mNameError\u001b[0m                                 Traceback (most recent call last)",
      "\u001b[0;32m/var/folders/wy/_1rg4fp57c90gdvfqnh0r54m0000gq/T/ipykernel_7275/2265093642.py\u001b[0m in \u001b[0;36m<module>\u001b[0;34m\u001b[0m\n\u001b[0;32m----> 1\u001b[0;31m \u001b[0manalysis\u001b[0m\u001b[0;34m=\u001b[0m\u001b[0mAD_analysis\u001b[0m\u001b[0;34m(\u001b[0m\u001b[0;34m)\u001b[0m\u001b[0;34m\u001b[0m\u001b[0;34m\u001b[0m\u001b[0m\n\u001b[0m\u001b[1;32m      2\u001b[0m \u001b[0manalysis\u001b[0m\u001b[0;34m.\u001b[0m\u001b[0moutput_parameters\u001b[0m\u001b[0;34m[\u001b[0m\u001b[0;34m'wave_wavelengths'\u001b[0m\u001b[0;34m]\u001b[0m\u001b[0;34m=\u001b[0m\u001b[0mlambdas\u001b[0m\u001b[0;34m\u001b[0m\u001b[0;34m\u001b[0m\u001b[0m\n\u001b[1;32m      3\u001b[0m \u001b[0manalysis\u001b[0m\u001b[0;34m.\u001b[0m\u001b[0mload_airmasses\u001b[0m\u001b[0;34m(\u001b[0m\u001b[0mHA_range\u001b[0m\u001b[0;34m=\u001b[0m\u001b[0mHA_vals\u001b[0m\u001b[0;34m,\u001b[0m\u001b[0mtarg_dec\u001b[0m\u001b[0;34m=\u001b[0m\u001b[0;36m0\u001b[0m\u001b[0;34m*\u001b[0m\u001b[0mu\u001b[0m\u001b[0;34m.\u001b[0m\u001b[0mdeg\u001b[0m\u001b[0;34m)\u001b[0m\u001b[0;34m\u001b[0m\u001b[0;34m\u001b[0m\u001b[0m\n\u001b[1;32m      4\u001b[0m \u001b[0manalysis\u001b[0m\u001b[0;34m.\u001b[0m\u001b[0moutput_parameters\u001b[0m\u001b[0;34m[\u001b[0m\u001b[0;34m'shifts'\u001b[0m\u001b[0;34m]\u001b[0m\u001b[0;34m=\u001b[0m\u001b[0mtotal_shifts\u001b[0m \u001b[0;34m*\u001b[0m \u001b[0mu\u001b[0m\u001b[0;34m.\u001b[0m\u001b[0marcsec\u001b[0m\u001b[0;34m\u001b[0m\u001b[0;34m\u001b[0m\u001b[0m\n\u001b[1;32m      5\u001b[0m \u001b[0manalysis\u001b[0m\u001b[0;34m.\u001b[0m\u001b[0moutput_parameters\u001b[0m\u001b[0;34m[\u001b[0m\u001b[0;34m'aperture_diameter'\u001b[0m\u001b[0;34m]\u001b[0m\u001b[0;34m=\u001b[0m\u001b[0;36m0.69\u001b[0m\u001b[0;34m*\u001b[0m\u001b[0mu\u001b[0m\u001b[0;34m.\u001b[0m\u001b[0marcsec\u001b[0m\u001b[0;34m\u001b[0m\u001b[0;34m\u001b[0m\u001b[0m\n",
      "\u001b[0;31mNameError\u001b[0m: name 'AD_analysis' is not defined"
     ]
    }
   ],
   "source": [
    "analysis=AD_analysis()\n",
    "analysis.output_parameters['wave_wavelengths']=lambdas\n",
    "analysis.load_airmasses(HA_range=HA_vals,targ_dec=0*u.deg)\n",
    "analysis.output_parameters['shifts']=total_shifts * u.arcsec\n",
    "analysis.output_parameters['aperture_diameter']=0.69*u.arcsec\n",
    "analysis.calculate_transmissions(k_lim=30, FWHM_change=True, kolb_factor=True, method=\"numerical moffat\",scale=0.001)\n",
    "\n",
    "raw_trans=analysis.output_parameters['wave_transmissions']\n",
    "integ_transmission=observation_transmission(analysis.output_parameters)\n",
    "optimum_trans_=np.array([0,0,0,0,0])\n",
    "analysis=AD_analysis()\n",
    "analysis.output_parameters['wave_wavelengths']=lambdas\n",
    "\n",
    "analysis.output_parameters['shifts']=[shifts_0] * u.arcsec\n",
    "analysis.output_parameters['aperture_diameter']=0.69*u.arcsec\n",
    "for i in range(0,len(HA_vals)):\n",
    "    analysis.load_airmasses(HA_range=[HA_vals[i]],targ_dec=0*u.deg)\n",
    "    analysis.calculate_transmissions(k_lim=30, FWHM_change=True, kolb_factor=True, method=\"numerical moffat\",scale=0.001)\n",
    "    optimum_trans_=optimum_trans_+np.array(analysis.output_parameters['wave_transmissions'])/21\n",
    "\n",
    "plt.figure(figsize=[8,5])\n",
    "plt.plot(lambdas,(integ_transmission/optimum_trans_)[0],color='blue')\n",
    "plt.ylim(0,1.1)\n",
    "plt.xlabel(\"Wavelength (nm)\")\n",
    "plt.ylabel(\"Transmission Relative to no AD\")\n",
    "plt.title(\"VIS With Global ADC, Guide = 487nm, HA 1-2h, Dec = 0 deg\")"
   ]
  },
  {
   "cell_type": "code",
   "execution_count": 11,
   "metadata": {},
   "outputs": [
    {
     "ename": "NameError",
     "evalue": "name 'atm_diff' is not defined",
     "output_type": "error",
     "traceback": [
      "\u001b[0;31m---------------------------------------------------------------------------\u001b[0m",
      "\u001b[0;31mNameError\u001b[0m                                 Traceback (most recent call last)",
      "\u001b[0;32m/var/folders/wy/_1rg4fp57c90gdvfqnh0r54m0000gq/T/ipykernel_7275/3172471740.py\u001b[0m in \u001b[0;36m<module>\u001b[0;34m\u001b[0m\n\u001b[0;32m----> 1\u001b[0;31m \u001b[0mza_airmasses\u001b[0m\u001b[0;34m=\u001b[0m\u001b[0;34m[\u001b[0m\u001b[0matm_diff\u001b[0m\u001b[0;34m.\u001b[0m\u001b[0mzenith_dist_to_airmass\u001b[0m\u001b[0;34m(\u001b[0m\u001b[0;36m0\u001b[0m\u001b[0;34m)\u001b[0m\u001b[0;34m,\u001b[0m\u001b[0matm_diff\u001b[0m\u001b[0;34m.\u001b[0m\u001b[0mzenith_dist_to_airmass\u001b[0m\u001b[0;34m(\u001b[0m\u001b[0;36m30\u001b[0m\u001b[0;34m)\u001b[0m\u001b[0;34m,\u001b[0m\u001b[0matm_diff\u001b[0m\u001b[0;34m.\u001b[0m\u001b[0mzenith_dist_to_airmass\u001b[0m\u001b[0;34m(\u001b[0m\u001b[0;36m45\u001b[0m\u001b[0;34m)\u001b[0m\u001b[0;34m,\u001b[0m\u001b[0matm_diff\u001b[0m\u001b[0;34m.\u001b[0m\u001b[0mzenith_dist_to_airmass\u001b[0m\u001b[0;34m(\u001b[0m\u001b[0;36m50\u001b[0m\u001b[0;34m)\u001b[0m\u001b[0;34m,\u001b[0m\u001b[0matm_diff\u001b[0m\u001b[0;34m.\u001b[0m\u001b[0mzenith_dist_to_airmass\u001b[0m\u001b[0;34m(\u001b[0m\u001b[0;36m60\u001b[0m\u001b[0;34m)\u001b[0m\u001b[0;34m]\u001b[0m\u001b[0;34m\u001b[0m\u001b[0;34m\u001b[0m\u001b[0m\n\u001b[0m\u001b[1;32m      2\u001b[0m \u001b[0mHA_vals\u001b[0m\u001b[0;34m=\u001b[0m\u001b[0mnp\u001b[0m\u001b[0;34m.\u001b[0m\u001b[0mlinspace\u001b[0m\u001b[0;34m(\u001b[0m\u001b[0;36m1\u001b[0m\u001b[0;34m,\u001b[0m\u001b[0;36m2\u001b[0m\u001b[0;34m,\u001b[0m\u001b[0;36m21\u001b[0m\u001b[0;34m)\u001b[0m\u001b[0;34m\u001b[0m\u001b[0;34m\u001b[0m\u001b[0m\n\u001b[1;32m      3\u001b[0m \u001b[0mairmasses\u001b[0m\u001b[0;34m=\u001b[0m\u001b[0matm_diff\u001b[0m\u001b[0;34m.\u001b[0m\u001b[0mzenith_dist_to_airmass\u001b[0m\u001b[0;34m(\u001b[0m\u001b[0matm_diff\u001b[0m\u001b[0;34m.\u001b[0m\u001b[0mHA_2_ZA\u001b[0m\u001b[0;34m(\u001b[0m\u001b[0mHA_vals\u001b[0m\u001b[0;34m,\u001b[0m\u001b[0mdec\u001b[0m\u001b[0;34m=\u001b[0m\u001b[0;36m0\u001b[0m\u001b[0;34m*\u001b[0m\u001b[0mu\u001b[0m\u001b[0;34m.\u001b[0m\u001b[0mdeg\u001b[0m\u001b[0;34m)\u001b[0m\u001b[0;34m)\u001b[0m\u001b[0;34m\u001b[0m\u001b[0;34m\u001b[0m\u001b[0m\n\u001b[1;32m      4\u001b[0m \u001b[0mairmasses_prime\u001b[0m\u001b[0;34m=\u001b[0m\u001b[0matm_diff\u001b[0m\u001b[0;34m.\u001b[0m\u001b[0mzenith_dist_to_airmass\u001b[0m\u001b[0;34m(\u001b[0m\u001b[0matm_diff\u001b[0m\u001b[0;34m.\u001b[0m\u001b[0mHA_2_ZA\u001b[0m\u001b[0;34m(\u001b[0m\u001b[0mHA_vals\u001b[0m\u001b[0;34m,\u001b[0m\u001b[0mdec\u001b[0m\u001b[0;34m=\u001b[0m\u001b[0;36m0\u001b[0m\u001b[0;34m*\u001b[0m\u001b[0mu\u001b[0m\u001b[0;34m.\u001b[0m\u001b[0mdeg\u001b[0m\u001b[0;34m)\u001b[0m\u001b[0;34m)\u001b[0m\u001b[0;34m\u001b[0m\u001b[0;34m\u001b[0m\u001b[0m\n\u001b[1;32m      5\u001b[0m \u001b[0;34m\u001b[0m\u001b[0m\n",
      "\u001b[0;31mNameError\u001b[0m: name 'atm_diff' is not defined"
     ]
    }
   ],
   "source": [
    "za_airmasses=[atm_diff.zenith_dist_to_airmass(0),atm_diff.zenith_dist_to_airmass(30),atm_diff.zenith_dist_to_airmass(45),atm_diff.zenith_dist_to_airmass(50),atm_diff.zenith_dist_to_airmass(60)]\n",
    "HA_vals=np.linspace(1,2,21)\n",
    "airmasses=atm_diff.zenith_dist_to_airmass(atm_diff.HA_2_ZA(HA_vals,dec=0*u.deg))\n",
    "airmasses_prime=atm_diff.zenith_dist_to_airmass(atm_diff.HA_2_ZA(HA_vals,dec=0*u.deg))\n",
    "\n",
    "\n",
    "import Transmission_calculation as trans\n",
    "Plate_Scale = 3.316 # [mm/arcsec]\n",
    "Plate_Scale = Plate_Scale*1000 #um/arcsec\n",
    "lambdas=[770,859,1010,1045,1370,1420,1670,1926]*u.nm\n",
    "shifts_0=[0,0,0,0,0,0,0,0] #is in um\n",
    "shifts_30=np.array([210.00,188.00,141.00,129.00,0.00,-23.00,-148.00,-298.00])\n",
    "shifts_45=np.array([474.00,348.00,252.00,229.00,0.00,-38.00,-248.00,-496.00])\n",
    "shifts_50=np.array([483.00,416.00,300.00,273.00,0.00,-46.00,-295.00,-589.00])\n",
    "shifts_60=np.array([696.00,602.00,435.00,395.00,0.00,-67.00,-428.00,-856.00])\n",
    "shifts=np.array([shifts_0,shifts_30,shifts_45,shifts_50,shifts_60])/Plate_Scale*u.arcsec\n",
    "\n",
    "shiftz_0=(shifts_30-shifts_0)*(airmasses[0]-za_airmasses[0])/(za_airmasses[1]-za_airmasses[0])+shifts_0\n",
    "shiftz_1=(shifts_30-shifts_0)*(airmasses[1]-za_airmasses[0])/(za_airmasses[1]-za_airmasses[0])+shifts_0\n",
    "shiftz_2=(shifts_30-shifts_0)*(airmasses[2]-za_airmasses[0])/(za_airmasses[1]-za_airmasses[0])+shifts_0\n",
    "shiftz_3=(shifts_30-shifts_0)*(airmasses[3]-za_airmasses[0])/(za_airmasses[1]-za_airmasses[0])+shifts_0\n",
    "\n",
    "total_shifts=[shiftz_0,shiftz_1,shiftz_2,shiftz_3]\n",
    "\n",
    "for i in range(4,21):\n",
    "    this_shift=(shifts_45-shifts_30)*(airmasses[i]-za_airmasses[1])/(za_airmasses[2]-za_airmasses[1])+shifts_30\n",
    "    total_shifts.append(this_shift)\n",
    "    \n",
    "total_shifts = np.array(total_shifts)/Plate_Scale*u.arcsec"
   ]
  },
  {
   "cell_type": "code",
   "execution_count": null,
   "metadata": {},
   "outputs": [],
   "source": [
    "analysis=AD_analysis()\n",
    "analysis.output_parameters['wave_wavelengths']=lambdas\n",
    "analysis.load_airmasses(HA_range=HA_vals,targ_dec=0*u.deg)\n",
    "analysis.output_parameters['shifts']=total_shifts * u.arcsec\n",
    "analysis.output_parameters['aperture_diameter']=0.6*u.arcsec\n",
    "analysis.calculate_transmissions(k_lim=30, FWHM_change=True, kolb_factor=True, method=\"numerical moffat\",scale=0.001)\n",
    "\n",
    "raw_trans=analysis.output_parameters['wave_transmissions']\n",
    "integ_transmission=observation_transmission(analysis.output_parameters)\n",
    "optimum_trans_=np.array([0,0,0,0,0,0,0,0])\n",
    "analysis=AD_analysis()\n",
    "analysis.output_parameters['wave_wavelengths']=lambdas\n",
    "\n",
    "analysis.output_parameters['shifts']=[shifts_0] * u.arcsec\n",
    "analysis.output_parameters['aperture_diameter']=0.6*u.arcsec\n",
    "for i in range(0,len(HA_vals)):\n",
    "    analysis.load_airmasses(HA_range=[HA_vals[i]],targ_dec=0*u.deg)\n",
    "    analysis.calculate_transmissions(k_lim=30, FWHM_change=True, kolb_factor=True, method=\"numerical moffat\",scale=0.001)\n",
    "    optimum_trans_=optimum_trans_+np.array(analysis.output_parameters['wave_transmissions'])/21\n",
    "\n",
    "plt.figure(figsize=[8,5])\n",
    "plt.plot(lambdas,(integ_transmission/optimum_trans_)[0],color='red')\n",
    "plt.ylim(0,1.1)\n",
    "plt.xlabel(\"Wavelength (nm)\")\n",
    "plt.ylabel(\"Transmission Relative to no AD\")\n",
    "plt.title(\"NIR With Global ADC, Guide = 1370nm, HA 1-2h, Dec = 0 deg\")"
   ]
  }
 ],
 "metadata": {
  "kernelspec": {
   "display_name": "astrocondatest",
   "language": "python",
   "name": "python3"
  },
  "language_info": {
   "codemirror_mode": {
    "name": "ipython",
    "version": 3
   },
   "file_extension": ".py",
   "mimetype": "text/x-python",
   "name": "python",
   "nbconvert_exporter": "python",
   "pygments_lexer": "ipython3",
   "version": "3.7.13"
  },
  "orig_nbformat": 4
 },
 "nbformat": 4,
 "nbformat_minor": 2
}
