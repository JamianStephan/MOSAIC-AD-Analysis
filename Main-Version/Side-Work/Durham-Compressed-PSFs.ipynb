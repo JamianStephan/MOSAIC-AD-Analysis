{
 "cells": [
  {
   "attachments": {},
   "cell_type": "markdown",
   "metadata": {},
   "source": [
    "# Durham Transmission Calculation for Compressed PSFs\n",
    "This notebook is used to compare the compressed and uncompressed Durham PSFs, which are needed to speed up the transmission calculations"
   ]
  },
  {
   "cell_type": "code",
   "execution_count": 1,
   "metadata": {},
   "outputs": [],
   "source": [
    "from astropy.io import fits\n",
    "from astropy import units as u\n",
    "import numpy as np\n",
    "import math\n",
    "from astropy.modeling.functional_models import Disk2D\n",
    "import matplotlib.pyplot as plt\n",
    "plt.style.use('bmh')\n",
    "import time"
   ]
  },
  {
   "cell_type": "code",
   "execution_count": 2,
   "metadata": {},
   "outputs": [],
   "source": [
    "def numerical_durham_speed_v3(diameter,wavelength,offset,axis_val=24,version=0):\n",
    "    file=fits.open(\"PSFs/GLAO_Median_{}nm_v2.fits\".format(round(wavelength.value)))\n",
    "    durham_data=file[version].data[axis_val]\n",
    "    scale=file[version].header['scale']\n",
    "\n",
    "    fibre_boundary=math.ceil(diameter.value/2/scale)\n",
    "    data_boundary=len(durham_data)\n",
    "\n",
    "    x = np.arange(-fibre_boundary,fibre_boundary+1)\n",
    "    y = np.arange(-fibre_boundary, fibre_boundary+1)\n",
    "    x, y = np.meshgrid(x, y)\n",
    "\n",
    "    offset = abs(offset)\n",
    "    disk=Disk2D(1,abs(int(offset.value/scale)-offset.value/scale),0,diameter.value/2/scale)\n",
    "    disk_data=disk(x,y)\n",
    "\n",
    "    resized_data=np.zeros([len(disk_data),len(disk_data)])\n",
    "\n",
    "    durham_data=durham_data[int(data_boundary/2-fibre_boundary):int(data_boundary/2+fibre_boundary)+1,int(data_boundary/2-fibre_boundary+offset.value/scale):int(data_boundary/2+fibre_boundary+offset.value/scale)+1]\n",
    "    resized_data[0:len(durham_data),0:len(durham_data[0])]=durham_data\n",
    "\n",
    "    convolved=resized_data*disk_data\n",
    "    trans=sum(sum(convolved))\n",
    "    return trans"
   ]
  },
  {
   "attachments": {},
   "cell_type": "markdown",
   "metadata": {},
   "source": [
    "## Speed Comparison"
   ]
  },
  {
   "cell_type": "code",
   "execution_count": 3,
   "metadata": {},
   "outputs": [],
   "source": [
    "diameters=np.arange(.4,.8,.01)*u.arcsec\n",
    "offset=np.arange(0,0.7,0.01)*u.arcsec\n",
    "wavelengths=[440,562,720,920,1202,1638]*u.micron\n",
    "axis_val=24"
   ]
  },
  {
   "cell_type": "code",
   "execution_count": 4,
   "metadata": {},
   "outputs": [
    {
     "name": "stdout",
     "output_type": "stream",
     "text": [
      "Uncompressed Time:\n",
      "30.03\n",
      "Compressed time:\n",
      "20.1\n"
     ]
    }
   ],
   "source": [
    "start=time.time()\n",
    "for wavelength in wavelengths:\n",
    "    for d in diameters:\n",
    "        for o in offset:\n",
    "            numerical_durham_speed_v3(d*u.arcsec,wavelength,o,axis_val) #small mesh#2 neat\n",
    "print(\"Uncompressed Time:\")\n",
    "print(round(time.time()-start,2))\n",
    "    \n",
    "start=time.time()\n",
    "for wavelength in wavelengths:\n",
    "    for d in diameters:\n",
    "        for o in offset:\n",
    "            numerical_durham_speed_v3(d*u.arcsec,wavelength,o,axis_val,version=1) #small mesh#2 neat\n",
    "print(\"Compressed time:\")\n",
    "print(round(time.time()-start,2))"
   ]
  },
  {
   "cell_type": "markdown",
   "metadata": {},
   "source": [
    "## Accuracy Comparison"
   ]
  },
  {
   "cell_type": "code",
   "execution_count": 5,
   "metadata": {},
   "outputs": [],
   "source": [
    "diameter=0.7*u.arcsec\n",
    "wavelength=1638*u.micron\n",
    "offset=+0.3*u.arcsec\n",
    "axis_val=24"
   ]
  },
  {
   "cell_type": "code",
   "execution_count": 6,
   "metadata": {},
   "outputs": [
    {
     "name": "stdout",
     "output_type": "stream",
     "text": [
      "Uncompressed trans:\n",
      "50.86\n",
      "Compressed trans:\n",
      "50.17\n"
     ]
    }
   ],
   "source": [
    "trans=numerical_durham_speed_v3(diameter,wavelength,offset,axis_val,version=0)*100\n",
    "print(\"Uncompressed trans:\")\n",
    "print(round(trans,2))\n",
    "\n",
    "trans=numerical_durham_speed_v3(diameter,wavelength,offset,axis_val,version=1)*100\n",
    "print(\"Compressed trans:\")\n",
    "print(round(trans,2))"
   ]
  },
  {
   "attachments": {},
   "cell_type": "markdown",
   "metadata": {},
   "source": [
    "## Compression Code\n",
    "Code used to compress Durham PSFs to ~0.01 arcsec/pixel"
   ]
  },
  {
   "cell_type": "code",
   "execution_count": 7,
   "metadata": {},
   "outputs": [],
   "source": [
    "def half_data(data,times):\n",
    "    newdata=data\n",
    "    for i in range(0,times):\n",
    "        new_bound=int(len(data)/2)\n",
    "        newdata=np.zeros((new_bound,new_bound)) \n",
    "        for i in range(0,new_bound):\n",
    "            for o in range(0,new_bound):\n",
    "                newdata[i][o]=np.sum(data[i*2:i*2+2,o*2:o*2+2])\n",
    "        data=newdata        \n",
    "    print(\"Compressed {} times\".format(times))\n",
    "    scale=file[0].header['scale']\n",
    "    new_scale=scale*2**times\n",
    "    print(\"Scale now {:2f} arcsec/pixel\".format(new_scale))\n",
    "\n",
    "    return newdata,new_scale\n",
    "wavelengths=[440,562,720,920,1202,1638]*u.micron"
   ]
  },
  {
   "cell_type": "code",
   "execution_count": 8,
   "metadata": {},
   "outputs": [
    {
     "name": "stdout",
     "output_type": "stream",
     "text": [
      "0.004331565000000001\n",
      "0.004331565000000001\n",
      "0.004331565000000001\n",
      "0.004331565000000001\n",
      "0.004331565000000001\n",
      "0.004331565000000001\n",
      "0.004331565000000001\n",
      "0.004331565000000001\n",
      "0.004331565000000001\n",
      "0.004331565000000001\n",
      "0.004331565000000001\n",
      "0.004331565000000001\n",
      "0.004331565000000001\n",
      "0.004331565000000001\n",
      "0.004331565000000001\n",
      "0.004331565000000001\n",
      "0.004331565000000001\n",
      "0.004331565000000001\n",
      "0.004331565000000001\n",
      "0.004331565000000001\n",
      "0.004331565000000001\n",
      "0.004331565000000001\n",
      "0.004331565000000001\n",
      "0.004331565000000001\n",
      "0.004331565000000001\n",
      "0.004331565000000001\n",
      "0.004331565000000001\n",
      "0.004331565000000001\n",
      "0.004331565000000001\n",
      "0.004331565000000001\n",
      "0.004331565000000001\n",
      "0.004331565000000001\n",
      "0.004331565000000001\n",
      "0.004331565000000001\n",
      "0.004331565000000001\n",
      "0.004331565000000001\n",
      "0.004331565000000001\n",
      "0.004331565000000001\n",
      "0.004331565000000001\n",
      "0.004331565000000001\n",
      "0.004331565000000001\n",
      "0.004331565000000001\n",
      "0.004331565000000001\n",
      "0.004331565000000001\n",
      "0.004331565000000001\n",
      "0.004331565000000001\n",
      "0.004331565000000001\n",
      "0.004331565000000001\n",
      "0.004331565000000001\n"
     ]
    }
   ],
   "source": [
    "durham_datas=[]\n",
    "wavelength=wavelengths[5]\n",
    "axis_vals=np.arange(0,49)\n",
    "for axis_val in axis_vals:\n",
    "    file=fits.open(\"PSFs/GLAO_Median_{}nm.fits\".format(round(wavelength.value)))\n",
    "    durham_data=file['PRIMARY'].data[axis_val]\n",
    "    scale=file[0].header['scale']\n",
    "    print(scale)\n",
    "    durham_datas.append(durham_data)"
   ]
  },
  {
   "cell_type": "code",
   "execution_count": 9,
   "metadata": {},
   "outputs": [
    {
     "name": "stdout",
     "output_type": "stream",
     "text": [
      "Compressed 1 times\n",
      "Scale now 0.008663 arcsec/pixel\n",
      "Compressed 1 times\n",
      "Scale now 0.008663 arcsec/pixel\n",
      "Compressed 1 times\n",
      "Scale now 0.008663 arcsec/pixel\n",
      "Compressed 1 times\n",
      "Scale now 0.008663 arcsec/pixel\n",
      "Compressed 1 times\n",
      "Scale now 0.008663 arcsec/pixel\n",
      "Compressed 1 times\n",
      "Scale now 0.008663 arcsec/pixel\n",
      "Compressed 1 times\n",
      "Scale now 0.008663 arcsec/pixel\n",
      "Compressed 1 times\n",
      "Scale now 0.008663 arcsec/pixel\n",
      "Compressed 1 times\n",
      "Scale now 0.008663 arcsec/pixel\n",
      "Compressed 1 times\n",
      "Scale now 0.008663 arcsec/pixel\n",
      "Compressed 1 times\n",
      "Scale now 0.008663 arcsec/pixel\n",
      "Compressed 1 times\n",
      "Scale now 0.008663 arcsec/pixel\n",
      "Compressed 1 times\n",
      "Scale now 0.008663 arcsec/pixel\n",
      "Compressed 1 times\n",
      "Scale now 0.008663 arcsec/pixel\n",
      "Compressed 1 times\n",
      "Scale now 0.008663 arcsec/pixel\n",
      "Compressed 1 times\n",
      "Scale now 0.008663 arcsec/pixel\n",
      "Compressed 1 times\n",
      "Scale now 0.008663 arcsec/pixel\n",
      "Compressed 1 times\n",
      "Scale now 0.008663 arcsec/pixel\n",
      "Compressed 1 times\n",
      "Scale now 0.008663 arcsec/pixel\n",
      "Compressed 1 times\n",
      "Scale now 0.008663 arcsec/pixel\n",
      "Compressed 1 times\n",
      "Scale now 0.008663 arcsec/pixel\n",
      "Compressed 1 times\n",
      "Scale now 0.008663 arcsec/pixel\n",
      "Compressed 1 times\n",
      "Scale now 0.008663 arcsec/pixel\n",
      "Compressed 1 times\n",
      "Scale now 0.008663 arcsec/pixel\n",
      "Compressed 1 times\n",
      "Scale now 0.008663 arcsec/pixel\n",
      "Compressed 1 times\n",
      "Scale now 0.008663 arcsec/pixel\n",
      "Compressed 1 times\n",
      "Scale now 0.008663 arcsec/pixel\n",
      "Compressed 1 times\n",
      "Scale now 0.008663 arcsec/pixel\n",
      "Compressed 1 times\n",
      "Scale now 0.008663 arcsec/pixel\n",
      "Compressed 1 times\n",
      "Scale now 0.008663 arcsec/pixel\n",
      "Compressed 1 times\n",
      "Scale now 0.008663 arcsec/pixel\n",
      "Compressed 1 times\n",
      "Scale now 0.008663 arcsec/pixel\n",
      "Compressed 1 times\n",
      "Scale now 0.008663 arcsec/pixel\n",
      "Compressed 1 times\n",
      "Scale now 0.008663 arcsec/pixel\n",
      "Compressed 1 times\n",
      "Scale now 0.008663 arcsec/pixel\n",
      "Compressed 1 times\n",
      "Scale now 0.008663 arcsec/pixel\n",
      "Compressed 1 times\n",
      "Scale now 0.008663 arcsec/pixel\n",
      "Compressed 1 times\n",
      "Scale now 0.008663 arcsec/pixel\n",
      "Compressed 1 times\n",
      "Scale now 0.008663 arcsec/pixel\n",
      "Compressed 1 times\n",
      "Scale now 0.008663 arcsec/pixel\n",
      "Compressed 1 times\n",
      "Scale now 0.008663 arcsec/pixel\n",
      "Compressed 1 times\n",
      "Scale now 0.008663 arcsec/pixel\n",
      "Compressed 1 times\n",
      "Scale now 0.008663 arcsec/pixel\n",
      "Compressed 1 times\n",
      "Scale now 0.008663 arcsec/pixel\n",
      "Compressed 1 times\n",
      "Scale now 0.008663 arcsec/pixel\n",
      "Compressed 1 times\n",
      "Scale now 0.008663 arcsec/pixel\n",
      "Compressed 1 times\n",
      "Scale now 0.008663 arcsec/pixel\n",
      "Compressed 1 times\n",
      "Scale now 0.008663 arcsec/pixel\n",
      "Compressed 1 times\n",
      "Scale now 0.008663 arcsec/pixel\n"
     ]
    }
   ],
   "source": [
    "durham_datas_halfed=[]\n",
    "for array in durham_datas:\n",
    "    durham_data_halfed,new_scale=half_data(array,1) #change second variable to compress differently\n",
    "    durham_datas_halfed.append(durham_data_halfed)"
   ]
  },
  {
   "cell_type": "code",
   "execution_count": 10,
   "metadata": {},
   "outputs": [
    {
     "ename": "OSError",
     "evalue": "File 'PSFs/GLAO_Median_1638nm_v2.fits' already exists.",
     "output_type": "error",
     "traceback": [
      "\u001b[0;31m---------------------------------------------------------------------------\u001b[0m",
      "\u001b[0;31mOSError\u001b[0m                                   Traceback (most recent call last)",
      "\u001b[0;32m/var/folders/wy/_1rg4fp57c90gdvfqnh0r54m0000gq/T/ipykernel_6230/4272883360.py\u001b[0m in \u001b[0;36m<module>\u001b[0;34m\u001b[0m\n\u001b[1;32m      2\u001b[0m \u001b[0mfile\u001b[0m\u001b[0;34m.\u001b[0m\u001b[0mappend\u001b[0m\u001b[0;34m(\u001b[0m\u001b[0mhdu_2\u001b[0m\u001b[0;34m)\u001b[0m\u001b[0;34m\u001b[0m\u001b[0;34m\u001b[0m\u001b[0m\n\u001b[1;32m      3\u001b[0m \u001b[0mfile\u001b[0m\u001b[0;34m[\u001b[0m\u001b[0;36m1\u001b[0m\u001b[0;34m]\u001b[0m\u001b[0;34m.\u001b[0m\u001b[0mheader\u001b[0m\u001b[0;34m[\u001b[0m\u001b[0;34m'scale'\u001b[0m\u001b[0;34m]\u001b[0m\u001b[0;34m=\u001b[0m\u001b[0mnew_scale\u001b[0m\u001b[0;34m\u001b[0m\u001b[0;34m\u001b[0m\u001b[0m\n\u001b[0;32m----> 4\u001b[0;31m \u001b[0mfile\u001b[0m\u001b[0;34m.\u001b[0m\u001b[0mwriteto\u001b[0m\u001b[0;34m(\u001b[0m\u001b[0;34m\"PSFs/GLAO_Median_{}nm_v2.fits\"\u001b[0m\u001b[0;34m.\u001b[0m\u001b[0mformat\u001b[0m\u001b[0;34m(\u001b[0m\u001b[0mround\u001b[0m\u001b[0;34m(\u001b[0m\u001b[0mwavelength\u001b[0m\u001b[0;34m.\u001b[0m\u001b[0mvalue\u001b[0m\u001b[0;34m)\u001b[0m\u001b[0;34m)\u001b[0m\u001b[0;34m)\u001b[0m\u001b[0;34m\u001b[0m\u001b[0;34m\u001b[0m\u001b[0m\n\u001b[0m",
      "\u001b[0;32m/opt/anaconda3/envs/astrocondatest/lib/python3.7/site-packages/astropy/utils/decorators.py\u001b[0m in \u001b[0;36mwrapper\u001b[0;34m(*args, **kwargs)\u001b[0m\n\u001b[1;32m    534\u001b[0m                     \u001b[0mwarnings\u001b[0m\u001b[0;34m.\u001b[0m\u001b[0mwarn\u001b[0m\u001b[0;34m(\u001b[0m\u001b[0mmessage\u001b[0m\u001b[0;34m,\u001b[0m \u001b[0mwarning_type\u001b[0m\u001b[0;34m,\u001b[0m \u001b[0mstacklevel\u001b[0m\u001b[0;34m=\u001b[0m\u001b[0;36m2\u001b[0m\u001b[0;34m)\u001b[0m\u001b[0;34m\u001b[0m\u001b[0;34m\u001b[0m\u001b[0m\n\u001b[1;32m    535\u001b[0m \u001b[0;34m\u001b[0m\u001b[0m\n\u001b[0;32m--> 536\u001b[0;31m             \u001b[0;32mreturn\u001b[0m \u001b[0mfunction\u001b[0m\u001b[0;34m(\u001b[0m\u001b[0;34m*\u001b[0m\u001b[0margs\u001b[0m\u001b[0;34m,\u001b[0m \u001b[0;34m**\u001b[0m\u001b[0mkwargs\u001b[0m\u001b[0;34m)\u001b[0m\u001b[0;34m\u001b[0m\u001b[0;34m\u001b[0m\u001b[0m\n\u001b[0m\u001b[1;32m    537\u001b[0m \u001b[0;34m\u001b[0m\u001b[0m\n\u001b[1;32m    538\u001b[0m         \u001b[0;32mreturn\u001b[0m \u001b[0mwrapper\u001b[0m\u001b[0;34m\u001b[0m\u001b[0;34m\u001b[0m\u001b[0m\n",
      "\u001b[0;32m/opt/anaconda3/envs/astrocondatest/lib/python3.7/site-packages/astropy/io/fits/hdu/hdulist.py\u001b[0m in \u001b[0;36mwriteto\u001b[0;34m(self, fileobj, output_verify, overwrite, checksum)\u001b[0m\n\u001b[1;32m    941\u001b[0m         \u001b[0;31m# This can accept an open file object that's open to write only, or in\u001b[0m\u001b[0;34m\u001b[0m\u001b[0;34m\u001b[0m\u001b[0;34m\u001b[0m\u001b[0m\n\u001b[1;32m    942\u001b[0m         \u001b[0;31m# append/update modes but only if the file doesn't exist.\u001b[0m\u001b[0;34m\u001b[0m\u001b[0;34m\u001b[0m\u001b[0;34m\u001b[0m\u001b[0m\n\u001b[0;32m--> 943\u001b[0;31m         \u001b[0mfileobj\u001b[0m \u001b[0;34m=\u001b[0m \u001b[0m_File\u001b[0m\u001b[0;34m(\u001b[0m\u001b[0mfileobj\u001b[0m\u001b[0;34m,\u001b[0m \u001b[0mmode\u001b[0m\u001b[0;34m=\u001b[0m\u001b[0mmode\u001b[0m\u001b[0;34m,\u001b[0m \u001b[0moverwrite\u001b[0m\u001b[0;34m=\u001b[0m\u001b[0moverwrite\u001b[0m\u001b[0;34m)\u001b[0m\u001b[0;34m\u001b[0m\u001b[0;34m\u001b[0m\u001b[0m\n\u001b[0m\u001b[1;32m    944\u001b[0m         \u001b[0mhdulist\u001b[0m \u001b[0;34m=\u001b[0m \u001b[0mself\u001b[0m\u001b[0;34m.\u001b[0m\u001b[0mfromfile\u001b[0m\u001b[0;34m(\u001b[0m\u001b[0mfileobj\u001b[0m\u001b[0;34m)\u001b[0m\u001b[0;34m\u001b[0m\u001b[0;34m\u001b[0m\u001b[0m\n\u001b[1;32m    945\u001b[0m         \u001b[0;32mtry\u001b[0m\u001b[0;34m:\u001b[0m\u001b[0;34m\u001b[0m\u001b[0;34m\u001b[0m\u001b[0m\n",
      "\u001b[0;32m/opt/anaconda3/envs/astrocondatest/lib/python3.7/site-packages/astropy/utils/decorators.py\u001b[0m in \u001b[0;36mwrapper\u001b[0;34m(*args, **kwargs)\u001b[0m\n\u001b[1;32m    534\u001b[0m                     \u001b[0mwarnings\u001b[0m\u001b[0;34m.\u001b[0m\u001b[0mwarn\u001b[0m\u001b[0;34m(\u001b[0m\u001b[0mmessage\u001b[0m\u001b[0;34m,\u001b[0m \u001b[0mwarning_type\u001b[0m\u001b[0;34m,\u001b[0m \u001b[0mstacklevel\u001b[0m\u001b[0;34m=\u001b[0m\u001b[0;36m2\u001b[0m\u001b[0;34m)\u001b[0m\u001b[0;34m\u001b[0m\u001b[0;34m\u001b[0m\u001b[0m\n\u001b[1;32m    535\u001b[0m \u001b[0;34m\u001b[0m\u001b[0m\n\u001b[0;32m--> 536\u001b[0;31m             \u001b[0;32mreturn\u001b[0m \u001b[0mfunction\u001b[0m\u001b[0;34m(\u001b[0m\u001b[0;34m*\u001b[0m\u001b[0margs\u001b[0m\u001b[0;34m,\u001b[0m \u001b[0;34m**\u001b[0m\u001b[0mkwargs\u001b[0m\u001b[0;34m)\u001b[0m\u001b[0;34m\u001b[0m\u001b[0;34m\u001b[0m\u001b[0m\n\u001b[0m\u001b[1;32m    537\u001b[0m \u001b[0;34m\u001b[0m\u001b[0m\n\u001b[1;32m    538\u001b[0m         \u001b[0;32mreturn\u001b[0m \u001b[0mwrapper\u001b[0m\u001b[0;34m\u001b[0m\u001b[0;34m\u001b[0m\u001b[0m\n",
      "\u001b[0;32m/opt/anaconda3/envs/astrocondatest/lib/python3.7/site-packages/astropy/io/fits/file.py\u001b[0m in \u001b[0;36m__init__\u001b[0;34m(self, fileobj, mode, memmap, overwrite, cache)\u001b[0m\n\u001b[1;32m    168\u001b[0m             \u001b[0mself\u001b[0m\u001b[0;34m.\u001b[0m\u001b[0m_open_fileobj\u001b[0m\u001b[0;34m(\u001b[0m\u001b[0mfileobj\u001b[0m\u001b[0;34m,\u001b[0m \u001b[0mmode\u001b[0m\u001b[0;34m,\u001b[0m \u001b[0moverwrite\u001b[0m\u001b[0;34m)\u001b[0m\u001b[0;34m\u001b[0m\u001b[0;34m\u001b[0m\u001b[0m\n\u001b[1;32m    169\u001b[0m         \u001b[0;32melif\u001b[0m \u001b[0misinstance\u001b[0m\u001b[0;34m(\u001b[0m\u001b[0mfileobj\u001b[0m\u001b[0;34m,\u001b[0m \u001b[0;34m(\u001b[0m\u001b[0mstr\u001b[0m\u001b[0;34m,\u001b[0m \u001b[0mbytes\u001b[0m\u001b[0;34m)\u001b[0m\u001b[0;34m)\u001b[0m\u001b[0;34m:\u001b[0m\u001b[0;34m\u001b[0m\u001b[0;34m\u001b[0m\u001b[0m\n\u001b[0;32m--> 170\u001b[0;31m             \u001b[0mself\u001b[0m\u001b[0;34m.\u001b[0m\u001b[0m_open_filename\u001b[0m\u001b[0;34m(\u001b[0m\u001b[0mfileobj\u001b[0m\u001b[0;34m,\u001b[0m \u001b[0mmode\u001b[0m\u001b[0;34m,\u001b[0m \u001b[0moverwrite\u001b[0m\u001b[0;34m)\u001b[0m\u001b[0;34m\u001b[0m\u001b[0;34m\u001b[0m\u001b[0m\n\u001b[0m\u001b[1;32m    171\u001b[0m         \u001b[0;32melse\u001b[0m\u001b[0;34m:\u001b[0m\u001b[0;34m\u001b[0m\u001b[0;34m\u001b[0m\u001b[0m\n\u001b[1;32m    172\u001b[0m             \u001b[0mself\u001b[0m\u001b[0;34m.\u001b[0m\u001b[0m_open_filelike\u001b[0m\u001b[0;34m(\u001b[0m\u001b[0mfileobj\u001b[0m\u001b[0;34m,\u001b[0m \u001b[0mmode\u001b[0m\u001b[0;34m,\u001b[0m \u001b[0moverwrite\u001b[0m\u001b[0;34m)\u001b[0m\u001b[0;34m\u001b[0m\u001b[0;34m\u001b[0m\u001b[0m\n",
      "\u001b[0;32m/opt/anaconda3/envs/astrocondatest/lib/python3.7/site-packages/astropy/io/fits/file.py\u001b[0m in \u001b[0;36m_open_filename\u001b[0;34m(self, filename, mode, overwrite)\u001b[0m\n\u001b[1;32m    545\u001b[0m \u001b[0;34m\u001b[0m\u001b[0m\n\u001b[1;32m    546\u001b[0m         \u001b[0;32mif\u001b[0m \u001b[0mmode\u001b[0m \u001b[0;34m==\u001b[0m \u001b[0;34m'ostream'\u001b[0m\u001b[0;34m:\u001b[0m\u001b[0;34m\u001b[0m\u001b[0;34m\u001b[0m\u001b[0m\n\u001b[0;32m--> 547\u001b[0;31m             \u001b[0mself\u001b[0m\u001b[0;34m.\u001b[0m\u001b[0m_overwrite_existing\u001b[0m\u001b[0;34m(\u001b[0m\u001b[0moverwrite\u001b[0m\u001b[0;34m,\u001b[0m \u001b[0;32mNone\u001b[0m\u001b[0;34m,\u001b[0m \u001b[0;32mTrue\u001b[0m\u001b[0;34m)\u001b[0m\u001b[0;34m\u001b[0m\u001b[0;34m\u001b[0m\u001b[0m\n\u001b[0m\u001b[1;32m    548\u001b[0m \u001b[0;34m\u001b[0m\u001b[0m\n\u001b[1;32m    549\u001b[0m         \u001b[0;32mif\u001b[0m \u001b[0mos\u001b[0m\u001b[0;34m.\u001b[0m\u001b[0mpath\u001b[0m\u001b[0;34m.\u001b[0m\u001b[0mexists\u001b[0m\u001b[0;34m(\u001b[0m\u001b[0mself\u001b[0m\u001b[0;34m.\u001b[0m\u001b[0mname\u001b[0m\u001b[0;34m)\u001b[0m\u001b[0;34m:\u001b[0m\u001b[0;34m\u001b[0m\u001b[0;34m\u001b[0m\u001b[0m\n",
      "\u001b[0;32m/opt/anaconda3/envs/astrocondatest/lib/python3.7/site-packages/astropy/io/fits/file.py\u001b[0m in \u001b[0;36m_overwrite_existing\u001b[0;34m(self, overwrite, fileobj, closed)\u001b[0m\n\u001b[1;32m    435\u001b[0m                     \u001b[0mos\u001b[0m\u001b[0;34m.\u001b[0m\u001b[0mremove\u001b[0m\u001b[0;34m(\u001b[0m\u001b[0mself\u001b[0m\u001b[0;34m.\u001b[0m\u001b[0mname\u001b[0m\u001b[0;34m)\u001b[0m\u001b[0;34m\u001b[0m\u001b[0;34m\u001b[0m\u001b[0m\n\u001b[1;32m    436\u001b[0m             \u001b[0;32melse\u001b[0m\u001b[0;34m:\u001b[0m\u001b[0;34m\u001b[0m\u001b[0;34m\u001b[0m\u001b[0m\n\u001b[0;32m--> 437\u001b[0;31m                 \u001b[0;32mraise\u001b[0m \u001b[0mOSError\u001b[0m\u001b[0;34m(\u001b[0m\u001b[0;34mf\"File {self.name!r} already exists.\"\u001b[0m\u001b[0;34m)\u001b[0m\u001b[0;34m\u001b[0m\u001b[0;34m\u001b[0m\u001b[0m\n\u001b[0m\u001b[1;32m    438\u001b[0m \u001b[0;34m\u001b[0m\u001b[0m\n\u001b[1;32m    439\u001b[0m     \u001b[0;32mdef\u001b[0m \u001b[0m_try_read_compressed\u001b[0m\u001b[0;34m(\u001b[0m\u001b[0mself\u001b[0m\u001b[0;34m,\u001b[0m \u001b[0mobj_or_name\u001b[0m\u001b[0;34m,\u001b[0m \u001b[0mmagic\u001b[0m\u001b[0;34m,\u001b[0m \u001b[0mmode\u001b[0m\u001b[0;34m,\u001b[0m \u001b[0mext\u001b[0m\u001b[0;34m=\u001b[0m\u001b[0;34m''\u001b[0m\u001b[0;34m)\u001b[0m\u001b[0;34m:\u001b[0m\u001b[0;34m\u001b[0m\u001b[0;34m\u001b[0m\u001b[0m\n",
      "\u001b[0;31mOSError\u001b[0m: File 'PSFs/GLAO_Median_1638nm_v2.fits' already exists."
     ]
    }
   ],
   "source": [
    "hdu_2=fits.ImageHDU(durham_datas_halfed)\n",
    "file.append(hdu_2)\n",
    "file[1].header['scale']=new_scale\n",
    "file.writeto(\"PSFs/GLAO_Median_{}nm_v2.fits\".format(round(wavelength.value)))"
   ]
  },
  {
   "cell_type": "code",
   "execution_count": null,
   "metadata": {},
   "outputs": [],
   "source": []
  },
  {
   "cell_type": "code",
   "execution_count": null,
   "metadata": {},
   "outputs": [],
   "source": []
  }
 ],
 "metadata": {
  "kernelspec": {
   "display_name": "astrocondatest",
   "language": "python",
   "name": "python3"
  },
  "language_info": {
   "codemirror_mode": {
    "name": "ipython",
    "version": 3
   },
   "file_extension": ".py",
   "mimetype": "text/x-python",
   "name": "python",
   "nbconvert_exporter": "python",
   "pygments_lexer": "ipython3",
   "version": "3.7.13"
  },
  "orig_nbformat": 4,
  "vscode": {
   "interpreter": {
    "hash": "c41ce8533973f47bb222bf03c1b3dde5677659984c4f668baf7201671ea54eb3"
   }
  }
 },
 "nbformat": 4,
 "nbformat_minor": 2
}
