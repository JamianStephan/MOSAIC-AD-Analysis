{
 "cells": [
  {
   "cell_type": "code",
   "execution_count": 1,
   "metadata": {},
   "outputs": [],
   "source": [
    "from astropy.io import fits\n",
    "import Transmission_calculation as trans\n",
    "from astropy import units as u\n",
    "import numpy as np\n",
    "import math\n",
    "from astropy.modeling.functional_models import Disk2D\n",
    "from astropy.modeling.models import Gaussian2D\n",
    "from astropy.modeling.models import Moffat2D\n",
    "import matplotlib.pyplot as plt\n",
    "plt.style.use('bmh')\n",
    "\n",
    "def line(A,B):\n",
    "    m=(A[1]-B[1])/(A[0]-B[0])\n",
    "    c=A[1]-m*A[0] \n",
    "    return m,c"
   ]
  },
  {
   "cell_type": "code",
   "execution_count": 2,
   "metadata": {},
   "outputs": [],
   "source": [
    "def make_aperture(type,scale,major_axis,hex_rotation=0):\n",
    "    boundary=math.ceil(major_axis.value/2/scale) #radius of aperture in pixels\n",
    "    if type == \"circle\":\n",
    "    \n",
    "        x = np.arange(-boundary, boundary+1)\n",
    "        y = np.arange(-boundary, boundary+1)\n",
    "        x, y = np.meshgrid(x, y)\n",
    " \n",
    "        Disk=Disk2D(1,0,0,major_axis.value/2/scale)\n",
    "        aperture=Disk(x,y)    \n",
    "\n",
    "        return aperture\n",
    "    \n",
    "    if type == \"5 hexagons\":\n",
    "        sampling = major_axis.value/3/scale\n",
    "        aperture_array=np.zeros([boundary*2+1,boundary*2+1])\n",
    "\n",
    "        triangle_side=sampling*np.sqrt(3)/3\n",
    "        core = 2 * triangle_side * np.cos(np.pi/4)\n",
    "        aperture_centre=[boundary,boundary]\n",
    "        alpha = hex_rotation\n",
    "        \n",
    "        centre_0=aperture_centre\n",
    "        centre_1=[centre_0[0]+sampling*np.cos(np.pi/2-alpha),centre_0[1]+sampling-sampling*(1-np.sin(np.pi/2-alpha))]\n",
    "        centre_2=[centre_0[0]+np.sqrt((triangle_side*3/2)**2+(sampling/2)**2)*np.cos(np.pi/6-alpha),centre_0[1]+np.sqrt((triangle_side*3/2)**2+(sampling/2)**2)*np.sin(np.pi/6-alpha)]\n",
    "        centre_3=[centre_0[0]+np.sqrt((triangle_side*3/2)**2+(sampling/2)**2)*np.cos(np.pi/6+alpha),centre_0[1]-np.sqrt((triangle_side*3/2)**2+(sampling/2)**2)*np.sin(np.pi/6+alpha)]\n",
    "        centre_4=[centre_0[0]-sampling*np.cos(np.pi/2-alpha),centre_0[1]-sampling+sampling*(1-np.sin(np.pi/2-alpha))]\n",
    "        centre_5=[centre_0[0]-np.sqrt((triangle_side*3/2)**2+(sampling/2)**2)*np.cos(np.pi/6-alpha),centre_0[1]-np.sqrt((triangle_side*3/2)**2+(sampling/2)**2)*np.sin(np.pi/6-alpha)]\n",
    "        centre_6=[centre_0[0]-np.sqrt((triangle_side*3/2)**2+(sampling/2)**2)*np.cos(np.pi/6+alpha),centre_0[1]+np.sqrt((triangle_side*3/2)**2+(sampling/2)**2)*np.sin(np.pi/6+alpha)]\n",
    "\n",
    "        centres=[centre_0,centre_1,centre_2,centre_3,centre_4,centre_5,centre_6]\n",
    "\n",
    "        for centre in centres:\n",
    "            if alpha == 0:\n",
    "                P1=[centre[0]+triangle_side*np.cos(np.pi*1/3-alpha),centre[1]+triangle_side*np.sin(np.pi/3-alpha)]\n",
    "                P2=[centre[0]+triangle_side*np.cos(alpha),centre[1]-triangle_side*np.sin(alpha)]\n",
    "                P3=[centre[0]+triangle_side*np.cos(np.pi/3+alpha),centre[1]-triangle_side*np.sin(np.pi/3+alpha)]\n",
    "                P4=[centre[0]-triangle_side*np.cos(np.pi/3-alpha),centre[1]-triangle_side*np.sin(np.pi/3-alpha)]\n",
    "                P5=[centre[0]-triangle_side*np.cos(-alpha),centre[1]-triangle_side*np.sin(-alpha)]\n",
    "                P6=[centre[0]-triangle_side*np.cos(np.pi/3+alpha),centre[1]+triangle_side*np.sin(np.pi/3+alpha)]\n",
    "\n",
    "                L12_m,L12_c=line(P1,P2)\n",
    "                L23_m,L23_c=line(P2,P3)\n",
    "                L34_m,L34_c=line(P3,P4)\n",
    "                L45_m,L45_c=line(P4,P5)\n",
    "                L56_m,L56_c=line(P5,P6)\n",
    "                L61_m,L61_c=line(P6,P1)           \n",
    "                for y in range(0,len(aperture_array)):\n",
    "                    for x in range(0,len(aperture_array)):           \n",
    "                        if x < centre_0[0] + triangle_side * 2 and x > centre_0[0] - triangle_side * 2 and y < centre_0[1] + sampling and y > centre_0[1] - sampling: \n",
    "                            aperture_array[y][x]=1         \n",
    "                        elif y < L61_m*x + L61_c and y > L34_m*x + L34_c and y < L12_m*x + L12_c and y > L23_m*x + L23_c and y > L45_m*x + L45_c and y < L56_m*x + L56_c:\n",
    "                            aperture_array[y][x]=1  \n",
    "            elif alpha != np.pi/6 and alpha != -np.pi/6:\n",
    "                P1=[centre[0]+triangle_side*np.cos(np.pi*1/3-alpha),centre[1]+triangle_side*np.sin(np.pi/3-alpha)]\n",
    "                P2=[centre[0]+triangle_side*np.cos(alpha),centre[1]-triangle_side*np.sin(alpha)]\n",
    "                P3=[centre[0]+triangle_side*np.cos(np.pi/3+alpha),centre[1]-triangle_side*np.sin(np.pi/3+alpha)]\n",
    "                P4=[centre[0]-triangle_side*np.cos(np.pi/3-alpha),centre[1]-triangle_side*np.sin(np.pi/3-alpha)]\n",
    "                P5=[centre[0]-triangle_side*np.cos(-alpha),centre[1]-triangle_side*np.sin(-alpha)]\n",
    "                P6=[centre[0]-triangle_side*np.cos(np.pi/3+alpha),centre[1]+triangle_side*np.sin(np.pi/3+alpha)]\n",
    "\n",
    "                L12_m,L12_c=line(P1,P2)\n",
    "                L23_m,L23_c=line(P2,P3)\n",
    "                L34_m,L34_c=line(P3,P4)\n",
    "                L45_m,L45_c=line(P4,P5)\n",
    "                L56_m,L56_c=line(P5,P6)\n",
    "                L61_m,L61_c=line(P6,P1)\n",
    "                for y in range(0,len(aperture_array)):\n",
    "                    for x in range(0,len(aperture_array)):\n",
    "                        if y > centre_0[1] - core and y < centre_0[1] + core and x > centre_0[1] - core and x < centre_0[1] + core:\n",
    "                            aperture_array[y][x]=1\n",
    "                        elif y < L61_m*x + L61_c and y > L34_m*x + L34_c and y < L12_m*x + L12_c and y > L23_m*x + L23_c and y > L45_m*x + L45_c and y < L56_m*x + L56_c:\n",
    "                            aperture_array[y][x]=1\n",
    "                                \n",
    "            elif alpha == np.pi/6 or alpha == - np.pi/6:\n",
    "                P1=[centre[0]+triangle_side*np.cos(np.pi/3-alpha),centre[1]+triangle_side*np.sin(np.pi/3-alpha)]\n",
    "                P2=[centre[0]+triangle_side*np.cos(alpha),centre[1]-triangle_side*np.sin(alpha)]\n",
    "                P3=[centre[0]+triangle_side*np.cos(np.pi/3+alpha),centre[1]-triangle_side*np.sin(np.pi/3+alpha)]\n",
    "                P4=[centre[0]-triangle_side*np.cos(np.pi/3-alpha),centre[1]-triangle_side*np.sin(np.pi/3-alpha)]\n",
    "                P5=[centre[0]-triangle_side*np.cos(-alpha),centre[1]-triangle_side*np.sin(-alpha)]\n",
    "                P6=[centre[0]-triangle_side*np.cos(np.pi/3+alpha),centre[1]+triangle_side*np.sin(np.pi/3+alpha)]\n",
    "                \n",
    "                L23_m,L23_c=line(P2,P3)\n",
    "                L34_m,L34_c=line(P3,P4)\n",
    "                L56_m,L56_c=line(P5,P6)\n",
    "                L61_m,L61_c=line(P6,P1)\n",
    "                \n",
    "                for y in range(0,len(aperture_array)):\n",
    "                    for x in range(0,len(aperture_array)):\n",
    "                        if y < centre_0[1] + triangle_side * 2 and y > centre_0[1] - triangle_side * 2 and x < centre_0[0] + sampling and x > centre_0[0] - sampling: \n",
    "                            aperture_array[y][x]=1    \n",
    "                        elif y < L61_m*x + L61_c and y > L34_m*x + L34_c and y > L23_m*x + L23_c and  y < L56_m*x + L56_c and x > centre[0] - sampling/2 and x < centre[0] + sampling/2:\n",
    "                            aperture_array[y][x]=1    \n",
    "        return aperture_array"
   ]
  },
  {
   "cell_type": "code",
   "execution_count": 3,
   "metadata": {},
   "outputs": [
    {
     "data": {
      "text/plain": [
       "<matplotlib.image.AxesImage at 0x7fd5093865b0>"
      ]
     },
     "execution_count": 3,
     "metadata": {},
     "output_type": "execute_result"
    },
    {
     "data": {
      "image/png": "[encoded data removed]",
      "text/plain": [
       "<Figure size 360x360 with 1 Axes>"
      ]
     },
     "metadata": {
      "needs_background": "light"
     },
     "output_type": "display_data"
    }
   ],
   "source": [
    "#VIS LR\n",
    "circle=make_aperture(\"circle\",0.01,0.702*u.arcsec)\n",
    "hexagons=make_aperture(\"5 hexagons\",0.01,0.702*u.arcsec)\n",
    "plt.figure(figsize=[5,5])\n",
    "plt.imshow(hexagons+circle*0.5)"
   ]
  },
  {
   "cell_type": "code",
   "execution_count": 4,
   "metadata": {},
   "outputs": [
    {
     "data": {
      "text/plain": [
       "<matplotlib.image.AxesImage at 0x7fd5189047f0>"
      ]
     },
     "execution_count": 4,
     "metadata": {},
     "output_type": "execute_result"
    },
    {
     "data": {
      "image/png": "[encoded data removed]",
      "text/plain": [
       "<Figure size 360x360 with 1 Axes>"
      ]
     },
     "metadata": {
      "needs_background": "light"
     },
     "output_type": "display_data"
    }
   ],
   "source": [
    "#NIR LR\n",
    "circle=make_aperture(\"circle\",0.01,0.190*3*u.arcsec)\n",
    "hexagons=make_aperture(\"5 hexagons\",0.01,0.190*3*u.arcsec)\n",
    "plt.figure(figsize=[5,5])\n",
    "plt.imshow(hexagons+circle*0.5)"
   ]
  },
  {
   "cell_type": "code",
   "execution_count": 5,
   "metadata": {},
   "outputs": [],
   "source": [
    "def numerical_durham(aperture,PSF,offset,scale,axis_val=25,data_version=0):\n",
    "    \"\"\"\n",
    "    Calculates transmission of Durham PSF offset from a circular aperture\n",
    "    Numerical solution\n",
    "\n",
    "    INPUTS:\n",
    "    fibre_diameter: float, arcsec astropy units\n",
    "        diameter of the fibre/aperture\n",
    "    wavelength: array, nm astropy units, from [440,562,720,920,1202,1638]nm\n",
    "        wavelength of the Durham PSF to use, corresponding to old band centres\n",
    "    offset: float, arcsec astropy units\n",
    "        offset of the PSF from the aperture\n",
    "    axis_val: float, from [0-48]\n",
    "        GLAO axis offset for the PSF. 25 is perfectly centred\n",
    "    data_version: float, from [0,1]\n",
    "        which Durham PSF to use; 0 is the original, 1 is the compressed data to ~0.01 arcsec\n",
    "\n",
    "    OUTPUTS:\n",
    "    Returns:\n",
    "    transmission: float\n",
    "        transmission value\n",
    "    \"\"\"\n",
    "    durham_data=PSF\n",
    "\n",
    "    offset = abs(offset)\n",
    "    fibre_boundary=(len(aperture)-1)/2 #radius of aperture in pixels\n",
    "    data_boundary=len(durham_data)\n",
    "\n",
    "    resized_data=np.zeros([len(aperture),len(aperture)])\n",
    "    durham_data=durham_data[int(data_boundary/2-fibre_boundary):int(data_boundary/2+fibre_boundary)+1,int(data_boundary/2-fibre_boundary+offset.value/scale):int(data_boundary/2+fibre_boundary+offset.value/scale)+1]\n",
    "    resized_data[0:len(durham_data),0:len(durham_data[0])]=durham_data\n",
    "    convolved=resized_data*aperture\n",
    "    \n",
    "    trans=sum(sum(convolved))\n",
    "\n",
    "    return trans"
   ]
  },
  {
   "cell_type": "code",
   "execution_count": 12,
   "metadata": {},
   "outputs": [],
   "source": [
    "def numerical_moffat(aperture,FWHM,offset,scale,beta=2.5):\n",
    "    \"\"\"\n",
    "    Calculates transmission of Moffat PSF offset from a circular aperture\n",
    "    Numerical solution\n",
    "\n",
    "    INPUTS:\n",
    "    fibre_diameter: float, arcsec astropy units\n",
    "        diameter of the fibre/aperture\n",
    "    FWHM: float, arcsec astropy units\n",
    "        FWHM of the PSF\n",
    "    offset: float, arcsec astropy units\n",
    "        offset of the PSF from the aperture\n",
    "    scale: float\n",
    "        scale of the numerical simulation, arcsec/pixel\n",
    "    beta: float\n",
    "        power index of the moffat equation, (also known as atmospheric scattering coefficient)\n",
    "\n",
    "    OUTPUTS:\n",
    "    Returns:\n",
    "    transmission: float\n",
    "        transmission value\n",
    "    \"\"\"\n",
    "    alpha=FWHM.value/scale/(2*np.sqrt(2**(1/beta)-1))\n",
    "\n",
    "    moffat_total=(np.pi*alpha**2)/(beta-1)\n",
    "\n",
    "    x_pos=offset/scale  \n",
    "\n",
    "    boundary=(len(aperture)-1)/2\n",
    "\n",
    "    x = np.arange(-boundary, boundary+1)\n",
    "    y = np.arange(-boundary, boundary+1)\n",
    "    x, y = np.meshgrid(x, y)\n",
    "\n",
    "    Moffat=Moffat2D(1,x_pos.value,0,alpha,beta)\n",
    "    Moffat_data=Moffat(x,y)\n",
    "\n",
    "    convolved_data=aperture*Moffat_data\n",
    "\n",
    "    trans=sum(sum(convolved_data))/moffat_total\n",
    "    return trans\n",
    "\n",
    "def numerical_gaussian(aperture,FWHM,offset,scale):\n",
    "    \"\"\"\n",
    "    Calculates transmission of Gaussian PSF offset from a circular aperture\n",
    "    Numerical solution\n",
    "\n",
    "    INPUTS:\n",
    "    fibre_diameter: float, arcsec astropy units\n",
    "        diameter of the fibre/aperture\n",
    "    FWHM: float, arcsec astropy units\n",
    "        FWHM of the PSF\n",
    "    offset: float, arcsec astropy units\n",
    "        offset of the PSF from the aperture\n",
    "    scale: float\n",
    "        scale of the numerical simulation, arcsec/pixel\n",
    "\n",
    "    OUTPUTS:\n",
    "    Returns:\n",
    "    transmission: float\n",
    "        transmission value\n",
    "    \"\"\"\n",
    "    std = FWHM.value/(2*np.sqrt(2*np.log(2)))/scale\n",
    "    x_pos=offset/scale\n",
    "\n",
    "    gaussian_total= 2*np.pi*std**2 \n",
    "\n",
    "    boundary=(len(aperture)-1)/2\n",
    "\n",
    "    x = np.arange(-boundary, boundary+1)\n",
    "    y = np.arange(-boundary, boundary+1)\n",
    "    x, y = np.meshgrid(x, y)\n",
    "\n",
    "    Gaussian=Gaussian2D(1,x_pos.value,0,std,std)\n",
    "    Gaussian_data=Gaussian(x,y)\n",
    "\n",
    "    convolved_data=aperture*Gaussian_data\n",
    "\n",
    "    trans=sum(sum(convolved_data))/gaussian_total\n",
    "\n",
    "    return trans"
   ]
  },
  {
   "cell_type": "code",
   "execution_count": 14,
   "metadata": {},
   "outputs": [],
   "source": [
    "wavelength=440 * u.nm\n",
    "data_version=0\n",
    "axis_val=25\n",
    "offset=0.3*u.arcsec\n",
    "fibre_diameter=0.702*u.arcsec\n",
    "\n",
    "file=fits.open(\"PSFs/GLAO_Median_{}nm_v2.fits\".format(round(wavelength.value)))\n",
    "durham_data=file[data_version].data[axis_val]\n",
    "scale=file[data_version].header['scale']\n",
    "\n",
    "\n",
    "circle=make_aperture(\"circle\",scale,0.702*u.arcsec)\n",
    "hexagons=make_aperture(\"5 hexagons\",scale,0.702*u.arcsec)\n"
   ]
  },
  {
   "cell_type": "code",
   "execution_count": 19,
   "metadata": {},
   "outputs": [
    {
     "data": {
      "text/plain": [
       "0.3549502044608606"
      ]
     },
     "execution_count": 19,
     "metadata": {},
     "output_type": "execute_result"
    }
   ],
   "source": []
  },
  {
   "cell_type": "code",
   "execution_count": 16,
   "metadata": {},
   "outputs": [
    {
     "data": {
      "text/plain": [
       "0.3429094794188414"
      ]
     },
     "execution_count": 16,
     "metadata": {},
     "output_type": "execute_result"
    }
   ],
   "source": []
  },
  {
   "cell_type": "code",
   "execution_count": 20,
   "metadata": {},
   "outputs": [
    {
     "data": {
      "text/plain": [
       "0.39575675349541645"
      ]
     },
     "execution_count": 20,
     "metadata": {},
     "output_type": "execute_result"
    }
   ],
   "source": []
  },
  {
   "cell_type": "code",
   "execution_count": null,
   "metadata": {},
   "outputs": [],
   "source": []
  },
  {
   "cell_type": "code",
   "execution_count": null,
   "metadata": {},
   "outputs": [],
   "source": []
  },
  {
   "cell_type": "code",
   "execution_count": null,
   "metadata": {},
   "outputs": [],
   "source": []
  }
 ],
 "metadata": {
  "kernelspec": {
   "display_name": "base",
   "language": "python",
   "name": "python3"
  },
  "language_info": {
   "codemirror_mode": {
    "name": "ipython",
    "version": 3
   },
   "file_extension": ".py",
   "mimetype": "text/x-python",
   "name": "python",
   "nbconvert_exporter": "python",
   "pygments_lexer": "ipython3",
   "version": "3.9.12"
  },
  "orig_nbformat": 4,
  "vscode": {
   "interpreter": {
    "hash": "40d3a090f54c6569ab1632332b64b2c03c39dcf918b08424e98f38b5ae0af88f"
   }
  }
 },
 "nbformat": 4,
 "nbformat_minor": 2
}
