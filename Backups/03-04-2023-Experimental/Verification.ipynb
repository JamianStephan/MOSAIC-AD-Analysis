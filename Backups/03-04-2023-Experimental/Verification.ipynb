{
 "cells": [
  {
   "cell_type": "code",
   "execution_count": null,
   "metadata": {},
   "outputs": [],
   "source": []
  },
  {
   "cell_type": "code",
   "execution_count": 1,
   "metadata": {},
   "outputs": [],
   "source": [
    "#Following function plots integration transmission average for single mode observations\n",
    "def plot_integ_trans(aperture_centres,guide,analysis,parallatic=True,normalise=\"none\"):  \n",
    "    \"\"\"\n",
    "    normalise: string, \"none\", \"no ad\"\n",
    "        what to normalise the transmission to; either no normalisation, or relative to the no AD case (perfect ADC)\n",
    "\n",
    "    \"\"\"\n",
    "    weights = np.arange(0, len(aperture_centres)+1)\n",
    "    norm = mpl.colors.Normalize(vmin=min(weights), vmax=max(weights))\n",
    "    cmap = mpl.cm.ScalarMappable(norm=norm, cmap=mpl.cm.RdBu)\n",
    "\n",
    "    integ_transmissions,opt_transmission=int_analysis.integ_trans(analysis,aperture_centres,guide,parallatic)\n",
    "    \n",
    "    plt.figure(figsize=[7,5])\n",
    "    if normalise == \"none\":\n",
    "        for count,i in enumerate(integ_transmissions):\n",
    "            plt.plot(analysis.output_parameters['wave_wavelengths'],np.array(i),label='Aperture Centre = {}'.format(aperture_centres[count]),color=cmap.to_rgba(len(aperture_centres)-count))\n",
    "        plt.ylabel(\"Mean Transmission\")        \n",
    "        plt.plot(analysis.output_parameters['wave_wavelengths'],opt_transmission,label='No AD Transmission',color='black',linestyle='--')\n",
    "    if normalise == \"no AD\":\n",
    "        for count,i in enumerate(integ_transmissions):\n",
    "            plt.plot(analysis.output_parameters['wave_wavelengths'],np.array(i)/np.array(opt_transmission),label='Aperture Centre = {}'.format(aperture_centres[count]),color=cmap.to_rgba(len(aperture_centres)-count))\n",
    "            print(int_analysis.integ_metric(np.array(i)/np.array(opt_transmission),\"min trans\"))\n",
    "        plt.axhline(y=1,label='No AD Transmission',color='black',linestyle='--')\n",
    "        plt.ylabel(\"Mean Transmission Relative to No AD\")\n",
    "        \n",
    "    plt.legend()    # if analysis.input_parameters['HA_range'] != []:\n",
    "    #     plt.title(\"{} {}, Guiding = {}, HA {}-{}h, Dec = {}\".format(analysis.input_parameters['regime'],analysis.input_parameters['band'],guide,analysis.input_parameters['HA_range'][0],analysis.input_parameters['HA_range'][-1],analysis.input_parameters['targ_dec']))\n",
    "    plt.title(\"Guiding = {}, HA {}-{}h, Dec = {}\".format(guide,analysis.input_parameters['HA_range'][0],analysis.input_parameters['HA_range'][-1],analysis.input_parameters['targ_dec']))\n",
    "    # else:\n",
    "    #     plt.title(\"{} {}, Guiding = {}, Airmass {}-{}\".format(analysis.input_parameters['regime'],analysis.input_parameters['band'],guide,analysis.output_parameters['airmasses'][0],analysis.output_parameters['airmasses'][-1]))\n",
    "    print(np.array(integ_transmissions)/np.array(opt_transmission))\n",
    "    plt.ylim(0,1.1)\n",
    "    plt.xlabel(\"Wavelength (nm)\")"
   ]
  },
  {
   "cell_type": "code",
   "execution_count": 2,
   "metadata": {},
   "outputs": [
    {
     "ename": "NameError",
     "evalue": "name 'AD_analysis' is not defined",
     "output_type": "error",
     "traceback": [
      "\u001b[0;31m---------------------------------------------------------------------------\u001b[0m",
      "\u001b[0;31mNameError\u001b[0m                                 Traceback (most recent call last)",
      "\u001b[0;32m/var/folders/wy/_1rg4fp57c90gdvfqnh0r54m0000gq/T/ipykernel_6485/1682671721.py\u001b[0m in \u001b[0;36m<module>\u001b[0;34m\u001b[0m\n\u001b[1;32m      1\u001b[0m \u001b[0;31m#Following is what is needed to plot the Trans vs Wavelength graphs for various aperture centres\u001b[0m\u001b[0;34m\u001b[0m\u001b[0;34m\u001b[0m\u001b[0;34m\u001b[0m\u001b[0m\n\u001b[1;32m      2\u001b[0m \u001b[0;31m#VIS\u001b[0m\u001b[0;34m\u001b[0m\u001b[0;34m\u001b[0m\u001b[0;34m\u001b[0m\u001b[0m\n\u001b[0;32m----> 3\u001b[0;31m \u001b[0manalysis\u001b[0m\u001b[0;34m=\u001b[0m\u001b[0mAD_analysis\u001b[0m\u001b[0;34m(\u001b[0m\u001b[0;34m)\u001b[0m\u001b[0;34m\u001b[0m\u001b[0;34m\u001b[0m\u001b[0m\n\u001b[0m\u001b[1;32m      4\u001b[0m \u001b[0manalysis\u001b[0m\u001b[0;34m.\u001b[0m\u001b[0mload_wave\u001b[0m\u001b[0;34m(\u001b[0m\u001b[0;34m'LR'\u001b[0m\u001b[0;34m,\u001b[0m\u001b[0;34m'VIS'\u001b[0m\u001b[0;34m,\u001b[0m\u001b[0;34m'B'\u001b[0m\u001b[0;34m,\u001b[0m\u001b[0;34m'B'\u001b[0m\u001b[0;34m,\u001b[0m\u001b[0msampling\u001b[0m\u001b[0;34m=\u001b[0m\u001b[0;36m20\u001b[0m\u001b[0;34m*\u001b[0m\u001b[0mu\u001b[0m\u001b[0;34m.\u001b[0m\u001b[0mnm\u001b[0m\u001b[0;34m)\u001b[0m \u001b[0;31m#Change for wanted observing mode\u001b[0m\u001b[0;34m\u001b[0m\u001b[0;34m\u001b[0m\u001b[0m\n\u001b[1;32m      5\u001b[0m \u001b[0;34m\u001b[0m\u001b[0m\n",
      "\u001b[0;31mNameError\u001b[0m: name 'AD_analysis' is not defined"
     ]
    }
   ],
   "source": [
    "#Following is what is needed to plot the Trans vs Wavelength graphs for various aperture centres\n",
    "#VIS\n",
    "analysis=AD_analysis()\n",
    "analysis.load_wave('LR','VIS','B','B',sampling=20*u.nm) #Change for wanted observing mode\n",
    "\n",
    "#HA:\n",
    "analysis.load_airmasses(HA_range=np.linspace(1,2,3),targ_dec=0*u.deg)\n",
    "\n",
    "#Aperture values to use:\n",
    "aperture_centres=[.4]*u.micron\n",
    "analysis.make_aperture(\"circle\",method=\"numerical moffat\")\n",
    "\n",
    "#Guide in NIR:\n",
    "guide=.6 * u.micron\n",
    "plot_integ_trans(aperture_centres,guide,analysis,normalise=\"no AD\")\n",
    "\n",
    "\n",
    "shifts=analysis.output_parameters['shifts']\n",
    "print(shifts)\n"
   ]
  },
  {
   "cell_type": "code",
   "execution_count": null,
   "metadata": {},
   "outputs": [],
   "source": [
    "print(analysis.output_parameters['wave_wavelengths'])\n",
    "aperture=trans_calc.make_aperture(\"circle\",0.01,0.72*u.arcsec)\n",
    "FWHM=trans_calc.calculate_FWHM(analysis.output_parameters['wave_wavelengths'],analysis.output_parameters['airmasses'][0],.68*u.arcsec,500*u.nm,kolb_factor=True)\n",
    "a=trans_calc.numerical_moffat(aperture,FWHM[0],shifts[0][0],0.01)/trans_calc.numerical_moffat(aperture,FWHM[0],0*u.arcsec,0.01)\n",
    "\n",
    "FWHM=trans_calc.calculate_FWHM(analysis.output_parameters['wave_wavelengths'],analysis.output_parameters['airmasses'][1],.68*u.arcsec,500*u.nm,kolb_factor=True)\n",
    "b=trans_calc.numerical_moffat(aperture,FWHM[0],shifts[1][0],0.01)/trans_calc.numerical_moffat(aperture,FWHM[0],0*u.arcsec,0.01)\n",
    "\n",
    "FWHM=trans_calc.calculate_FWHM(analysis.output_parameters['wave_wavelengths'],analysis.output_parameters['airmasses'][2],.68*u.arcsec,500*u.nm,kolb_factor=True)\n",
    "c=trans_calc.numerical_moffat(aperture,FWHM[0],shifts[2][0],0.01)/trans_calc.numerical_moffat(aperture,FWHM[0],0*u.arcsec,0.01)\n",
    "\n",
    "print(FWHM[0])\n",
    "print(c)"
   ]
  }
 ],
 "metadata": {
  "kernelspec": {
   "display_name": "astrocondatest",
   "language": "python",
   "name": "python3"
  },
  "language_info": {
   "codemirror_mode": {
    "name": "ipython",
    "version": 3
   },
   "file_extension": ".py",
   "mimetype": "text/x-python",
   "name": "python",
   "nbconvert_exporter": "python",
   "pygments_lexer": "ipython3",
   "version": "3.7.13"
  },
  "orig_nbformat": 4,
  "vscode": {
   "interpreter": {
    "hash": "c41ce8533973f47bb222bf03c1b3dde5677659984c4f668baf7201671ea54eb3"
   }
  }
 },
 "nbformat": 4,
 "nbformat_minor": 2
}
